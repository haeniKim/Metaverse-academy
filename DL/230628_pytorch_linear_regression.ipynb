{
  "nbformat": 4,
  "nbformat_minor": 0,
  "metadata": {
    "colab": {
      "provenance": [],
      "authorship_tag": "ABX9TyNgQzV6kUUNvpg5eR9QMPex",
      "include_colab_link": true
    },
    "kernelspec": {
      "name": "python3",
      "display_name": "Python 3"
    },
    "language_info": {
      "name": "python"
    }
  },
  "cells": [
    {
      "cell_type": "markdown",
      "metadata": {
        "id": "view-in-github",
        "colab_type": "text"
      },
      "source": [
        "<a href=\"https://colab.research.google.com/github/haeniKim/metaverse-academy/blob/master/DL/230628_pytorch_linear_regression.ipynb\" target=\"_parent\"><img src=\"https://colab.research.google.com/assets/colab-badge.svg\" alt=\"Open In Colab\"/></a>"
      ]
    },
    {
      "cell_type": "code",
      "execution_count": null,
      "metadata": {
        "id": "OiliqSHlR7er"
      },
      "outputs": [],
      "source": [
        "import torch"
      ]
    },
    {
      "cell_type": "code",
      "source": [
        "x = torch.randn(100, 1)\n",
        "x *= 10\n",
        "x.size() #100행, 1열의 2차원 텐서."
      ],
      "metadata": {
        "colab": {
          "base_uri": "https://localhost:8080/"
        },
        "id": "1L5j-wKbif6B",
        "outputId": "197dd7ba-9bea-4649-d7a9-6a7043f4fe51"
      },
      "execution_count": null,
      "outputs": [
        {
          "output_type": "execute_result",
          "data": {
            "text/plain": [
              "torch.Size([100, 1])"
            ]
          },
          "metadata": {},
          "execution_count": 3
        }
      ]
    },
    {
      "cell_type": "code",
      "source": [
        "y = x + torch.randn(100,1)\n",
        "y"
      ],
      "metadata": {
        "colab": {
          "base_uri": "https://localhost:8080/"
        },
        "id": "5o8jMEIQilwx",
        "outputId": "4be70781-612e-4616-c364-0d550a84e30b"
      },
      "execution_count": null,
      "outputs": [
        {
          "output_type": "execute_result",
          "data": {
            "text/plain": [
              "tensor([[ -3.5708],\n",
              "        [ 12.0035],\n",
              "        [ 20.9827],\n",
              "        [  8.4539],\n",
              "        [ -2.7803],\n",
              "        [ -5.8663],\n",
              "        [  0.8034],\n",
              "        [ -4.1146],\n",
              "        [  3.0286],\n",
              "        [ 14.3796],\n",
              "        [  2.2147],\n",
              "        [-12.3751],\n",
              "        [  1.1864],\n",
              "        [ -5.0816],\n",
              "        [  5.2967],\n",
              "        [ -8.0994],\n",
              "        [ -6.6036],\n",
              "        [  0.8097],\n",
              "        [  5.1092],\n",
              "        [ -3.0490],\n",
              "        [ 10.9132],\n",
              "        [ -4.6420],\n",
              "        [ -1.1291],\n",
              "        [  3.9640],\n",
              "        [  3.9295],\n",
              "        [-10.1570],\n",
              "        [  7.0371],\n",
              "        [ -7.2947],\n",
              "        [ 10.4986],\n",
              "        [  1.5501],\n",
              "        [ 20.9227],\n",
              "        [ 15.5120],\n",
              "        [-21.8663],\n",
              "        [ 11.9759],\n",
              "        [  1.0228],\n",
              "        [ 19.4209],\n",
              "        [  0.4790],\n",
              "        [ 13.2342],\n",
              "        [ -9.7601],\n",
              "        [  4.8100],\n",
              "        [ 11.6895],\n",
              "        [-11.7797],\n",
              "        [  1.1496],\n",
              "        [-25.8370],\n",
              "        [ 16.1862],\n",
              "        [  8.4962],\n",
              "        [ -6.7464],\n",
              "        [  3.5501],\n",
              "        [ -4.2892],\n",
              "        [ -3.5335],\n",
              "        [ -5.1539],\n",
              "        [-20.0656],\n",
              "        [  7.6737],\n",
              "        [-21.6501],\n",
              "        [ 10.1333],\n",
              "        [ -6.3299],\n",
              "        [ -6.3602],\n",
              "        [ -2.4543],\n",
              "        [  8.6809],\n",
              "        [  3.3338],\n",
              "        [ 10.8448],\n",
              "        [ -5.5144],\n",
              "        [-12.5217],\n",
              "        [ -6.4509],\n",
              "        [ -5.8576],\n",
              "        [ -0.2257],\n",
              "        [ -7.3930],\n",
              "        [-12.0004],\n",
              "        [-12.8698],\n",
              "        [ -1.3599],\n",
              "        [ -0.6243],\n",
              "        [-12.4788],\n",
              "        [ -7.2666],\n",
              "        [  5.8518],\n",
              "        [ 25.3759],\n",
              "        [ -9.5225],\n",
              "        [  0.3311],\n",
              "        [  5.1878],\n",
              "        [ -0.9877],\n",
              "        [ 11.3934],\n",
              "        [  8.5981],\n",
              "        [  0.5825],\n",
              "        [ -4.7240],\n",
              "        [ -4.7031],\n",
              "        [ -0.7371],\n",
              "        [ 15.5146],\n",
              "        [  3.9959],\n",
              "        [-16.4339],\n",
              "        [-10.5978],\n",
              "        [  3.1803],\n",
              "        [  9.9548],\n",
              "        [  8.8675],\n",
              "        [ -5.0090],\n",
              "        [  1.3163],\n",
              "        [-19.3382],\n",
              "        [ 16.0283],\n",
              "        [  2.8948],\n",
              "        [-20.1722],\n",
              "        [  4.5049],\n",
              "        [  4.8027]])"
            ]
          },
          "metadata": {},
          "execution_count": 4
        }
      ]
    },
    {
      "cell_type": "code",
      "source": [
        "import matplotlib.pyplot as plt\n",
        "plt.scatter(x, y)\n",
        "plt.plot(x1, y1, 'r')\n",
        "\n",
        "plt.show()\n",
        "\n"
      ],
      "metadata": {
        "colab": {
          "base_uri": "https://localhost:8080/",
          "height": 430
        },
        "id": "0x9rHTNojG3V",
        "outputId": "aebf3984-ac43-4814-d00b-353f7b49ec2f"
      },
      "execution_count": null,
      "outputs": [
        {
          "output_type": "display_data",
          "data": {
            "text/plain": [
              "<Figure size 640x480 with 1 Axes>"
            ],
            "image/png": "[encoded data removed]"
          },
          "metadata": {}
        }
      ]
    },
    {
      "cell_type": "code",
      "source": [
        "import torch.nn as nn\n",
        "\n",
        "class LRModel(nn.Module): # nn.Module 을 상속\n",
        "  def __init__(self):\n",
        "    super(LRModel, self).__init__()\n",
        "    self.layer = nn.Linear(1, 1) #input - outout\n",
        "\n",
        "  def forward(self, x): # 실제 데이터가 들어오는 곳\n",
        "    x = self.layer(x)\n",
        "    return x\n",
        "\n",
        "model = LRModel()\n",
        "model"
      ],
      "metadata": {
        "colab": {
          "base_uri": "https://localhost:8080/"
        },
        "id": "bb8lY4fNjVOV",
        "outputId": "58a05cff-b43a-47a6-d3a1-3016ba15bdd8"
      },
      "execution_count": null,
      "outputs": [
        {
          "output_type": "execute_result",
          "data": {
            "text/plain": [
              "LRModel(\n",
              "  (layer): Linear(in_features=1, out_features=1, bias=True)\n",
              ")"
            ]
          },
          "metadata": {},
          "execution_count": 12
        }
      ]
    },
    {
      "cell_type": "code",
      "source": [
        "w, b = model.parameters()"
      ],
      "metadata": {
        "id": "3cPXbTStmIA7"
      },
      "execution_count": null,
      "outputs": []
    },
    {
      "cell_type": "code",
      "source": [
        "print(w)\n",
        "print(b)"
      ],
      "metadata": {
        "colab": {
          "base_uri": "https://localhost:8080/"
        },
        "id": "rI7R_UUzml_H",
        "outputId": "e6d835e4-b8e6-461b-c713-2e4dccf1fc27"
      },
      "execution_count": null,
      "outputs": [
        {
          "output_type": "stream",
          "name": "stdout",
          "text": [
            "Parameter containing:\n",
            "tensor([[-0.2947]], requires_grad=True)\n",
            "Parameter containing:\n",
            "tensor([-0.9794], requires_grad=True)\n"
          ]
        }
      ]
    },
    {
      "cell_type": "code",
      "source": [
        "import numpy as np\n",
        "\n",
        "w1 = w[0][0].item()\n",
        "b1 = b[0].item()\n",
        "\n",
        "x1 = np.array([-30, 30])\n",
        "y1 = w1 * x1 + b1"
      ],
      "metadata": {
        "id": "-VpTGxYSmnFY"
      },
      "execution_count": null,
      "outputs": []
    },
    {
      "cell_type": "markdown",
      "source": [
        "< 학습을 시킬 때 필요한 것들 >\n",
        "* 손실함수 - 회귀는 mse 많이 사용\n",
        "* 최적화 함수\n",
        "* metrics\n",
        "* epochs\n",
        "* learning rate"
      ],
      "metadata": {
        "id": "ZvKNrAx7noHN"
      }
    },
    {
      "cell_type": "code",
      "source": [
        "import torch.optim as optim\n",
        "\n",
        "criterion = nn.MSELoss()\n",
        "optimizer = optim.SGD(model.parameters(), lr = 0.001 )\n",
        "epochs = 20\n",
        "\n",
        "cri_list = []\n",
        "\n",
        "for epoch in range(epochs):\n",
        "  optimizer.zero_grad() #optimizer 초기화\n",
        "\n",
        "  pred = model(x)\n",
        "  loss = criterion(pred, y)\n",
        "  cri_list.append(loss.item())\n",
        "  loss.backward()\n",
        "  print(f'{epoch+1} loss: {loss.item()}')\n",
        "  optimizer.step()\n",
        "\n",
        "\n",
        "\n",
        "# 검증 데이터는 다시 돌려야함.\n",
        "# 기본적인 torch 의 패턴"
      ],
      "metadata": {
        "colab": {
          "base_uri": "https://localhost:8080/"
        },
        "id": "p3bb9pakm34K",
        "outputId": "cb2c89d2-c2b2-43d7-f03c-988f683aa922"
      },
      "execution_count": null,
      "outputs": [
        {
          "output_type": "stream",
          "name": "stdout",
          "text": [
            "1 loss: 172.92300415039062\n",
            "2 loss: 110.94573211669922\n",
            "3 loss: 71.48910522460938\n",
            "4 loss: 46.3691520690918\n",
            "5 loss: 30.375978469848633\n",
            "6 loss: 20.192941665649414\n",
            "7 loss: 13.708647727966309\n",
            "8 loss: 9.578988075256348\n",
            "9 loss: 6.948300361633301\n",
            "10 loss: 5.271867752075195\n",
            "11 loss: 4.202922821044922\n",
            "12 loss: 3.520711660385132\n",
            "13 loss: 3.0847036838531494\n",
            "14 loss: 2.8054349422454834\n",
            "15 loss: 2.6259546279907227\n",
            "16 loss: 2.5100057125091553\n",
            "17 loss: 2.4345078468322754\n",
            "18 loss: 2.3847687244415283\n",
            "19 loss: 2.351433753967285\n",
            "20 loss: 2.3285486698150635\n"
          ]
        }
      ]
    },
    {
      "cell_type": "code",
      "source": [
        "plt.plot(range(epochs), cri_list)\n",
        "plt.show()"
      ],
      "metadata": {
        "colab": {
          "base_uri": "https://localhost:8080/",
          "height": 430
        },
        "id": "VYOzIQD6qK69",
        "outputId": "a4ce4c34-100c-4c17-90ea-dadfd8a80d0d"
      },
      "execution_count": null,
      "outputs": [
        {
          "output_type": "display_data",
          "data": {
            "text/plain": [
              "<Figure size 640x480 with 1 Axes>"
            ],
            "image/png": "[encoded data removed]"
          },
          "metadata": {}
        }
      ]
    },
    {
      "cell_type": "code",
      "source": [
        "w,b = model.parameters()\n",
        "\n",
        "w1 = w[0][0].item()\n",
        "b1 = b[0].item()\n",
        "\n",
        "x1 = np.array([-30,30])\n",
        "y1 = w1 * x1 + b1\n",
        "\n",
        "plt.scatter(x,y)\n",
        "plt.plot(x1,y1,'r')\n",
        "plt.show()"
      ],
      "metadata": {
        "colab": {
          "base_uri": "https://localhost:8080/",
          "height": 430
        },
        "id": "rJEa9p64qU9e",
        "outputId": "b4226837-c8f8-4af3-b4f3-dd26383b41ee"
      },
      "execution_count": null,
      "outputs": [
        {
          "output_type": "display_data",
          "data": {
            "text/plain": [
              "<Figure size 640x480 with 1 Axes>"
            ],
            "image/png": "[encoded data removed]"
          },
          "metadata": {}
        }
      ]
    },
    {
      "cell_type": "code",
      "source": [],
      "metadata": {
        "id": "0cUlLFuLq-2l"
      },
      "execution_count": null,
      "outputs": []
    }
  ]
}