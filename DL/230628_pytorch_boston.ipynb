{
  "nbformat": 4,
  "nbformat_minor": 0,
  "metadata": {
    "colab": {
      "provenance": [],
      "authorship_tag": "ABX9TyNGvniBo6Ka1SuUeWrxiOUd",
      "include_colab_link": true
    },
    "kernelspec": {
      "name": "python3",
      "display_name": "Python 3"
    },
    "language_info": {
      "name": "python"
    }
  },
  "cells": [
    {
      "cell_type": "markdown",
      "metadata": {
        "id": "view-in-github",
        "colab_type": "text"
      },
      "source": [
        "<a href=\"https://colab.research.google.com/github/haeniKim/metaverse-academy/blob/master/DL/230628_pytorch_boston.ipynb\" target=\"_parent\"><img src=\"https://colab.research.google.com/assets/colab-badge.svg\" alt=\"Open In Colab\"/></a>"
      ]
    },
    {
      "cell_type": "markdown",
      "source": [
        "## Pytorch를 활용한 Boston House 문제 - 회귀\n",
        "\n",
        "* linear\n",
        "* x, y"
      ],
      "metadata": {
        "id": "LbpqCWjgwTB6"
      }
    },
    {
      "cell_type": "code",
      "execution_count": null,
      "metadata": {
        "colab": {
          "base_uri": "https://localhost:8080/"
        },
        "id": "dPUV-B-qvdrY",
        "outputId": "aca7aa71-2a9c-44a8-feb6-1f1a1f253fe5"
      },
      "outputs": [
        {
          "output_type": "stream",
          "name": "stderr",
          "text": [
            "/usr/local/lib/python3.10/dist-packages/sklearn/datasets/_openml.py:301: UserWarning: Multiple active versions of the dataset matching the name boston exist. Versions may be fundamentally different, returning version 1.\n",
            "  warn(\n",
            "/usr/local/lib/python3.10/dist-packages/sklearn/datasets/_openml.py:968: FutureWarning: The default value of `parser` will change from `'liac-arff'` to `'auto'` in 1.4. You can set `parser='auto'` to silence this warning. Therefore, an `ImportError` will be raised from 1.4 if the dataset is dense and pandas is not installed. Note that the pandas parser may return different data types. See the Notes Section in fetch_openml's API doc for details.\n",
            "  warn(\n"
          ]
        },
        {
          "output_type": "execute_result",
          "data": {
            "text/plain": [
              "dict_keys(['data', 'target', 'frame', 'categories', 'feature_names', 'target_names', 'DESCR', 'details', 'url'])"
            ]
          },
          "metadata": {},
          "execution_count": 1
        }
      ],
      "source": [
        "from sklearn.datasets import fetch_openml\n",
        "\n",
        "dataset = fetch_openml(name='boston')\n",
        "\n",
        "dataset.keys()"
      ]
    },
    {
      "cell_type": "code",
      "source": [
        "import pandas as pd\n",
        "\n",
        "df = pd.DataFrame(dataset['data'])\n",
        "df.columns = dataset['feature_names']\n",
        "df['target'] = dataset['target']\n",
        "\n",
        "df.head()"
      ],
      "metadata": {
        "colab": {
          "base_uri": "https://localhost:8080/",
          "height": 206
        },
        "id": "S6SU7XmxvrXh",
        "outputId": "266ab306-27a9-4a8f-9b40-d1932286a839"
      },
      "execution_count": null,
      "outputs": [
        {
          "output_type": "execute_result",
          "data": {
            "text/plain": [
              "      CRIM    ZN  INDUS CHAS    NOX     RM   AGE     DIS RAD    TAX  PTRATIO  \\\n",
              "0  0.00632  18.0   2.31    0  0.538  6.575  65.2  4.0900   1  296.0     15.3   \n",
              "1  0.02731   0.0   7.07    0  0.469  6.421  78.9  4.9671   2  242.0     17.8   \n",
              "2  0.02729   0.0   7.07    0  0.469  7.185  61.1  4.9671   2  242.0     17.8   \n",
              "3  0.03237   0.0   2.18    0  0.458  6.998  45.8  6.0622   3  222.0     18.7   \n",
              "4  0.06905   0.0   2.18    0  0.458  7.147  54.2  6.0622   3  222.0     18.7   \n",
              "\n",
              "        B  LSTAT  target  \n",
              "0  396.90   4.98    24.0  \n",
              "1  396.90   9.14    21.6  \n",
              "2  392.83   4.03    34.7  \n",
              "3  394.63   2.94    33.4  \n",
              "4  396.90   5.33    36.2  "
            ],
            "text/html": [
              "\n",
              "  <div id=\"df-36920d42-8e96-48d6-9c80-373bd9026014\">\n",
              "    <div class=\"colab-df-container\">\n",
              "      <div>\n",
              "<style scoped>\n",
              "    .dataframe tbody tr th:only-of-type {\n",
              "        vertical-align: middle;\n",
              "    }\n",
              "\n",
              "    .dataframe tbody tr th {\n",
              "        vertical-align: top;\n",
              "    }\n",
              "\n",
              "    .dataframe thead th {\n",
              "        text-align: right;\n",
              "    }\n",
              "</style>\n",
              "<table border=\"1\" class=\"dataframe\">\n",
              "  <thead>\n",
              "    <tr style=\"text-align: right;\">\n",
              "      <th></th>\n",
              "      <th>CRIM</th>\n",
              "      <th>ZN</th>\n",
              "      <th>INDUS</th>\n",
              "      <th>CHAS</th>\n",
              "      <th>NOX</th>\n",
              "      <th>RM</th>\n",
              "      <th>AGE</th>\n",
              "      <th>DIS</th>\n",
              "      <th>RAD</th>\n",
              "      <th>TAX</th>\n",
              "      <th>PTRATIO</th>\n",
              "      <th>B</th>\n",
              "      <th>LSTAT</th>\n",
              "      <th>target</th>\n",
              "    </tr>\n",
              "  </thead>\n",
              "  <tbody>\n",
              "    <tr>\n",
              "      <th>0</th>\n",
              "      <td>0.00632</td>\n",
              "      <td>18.0</td>\n",
              "      <td>2.31</td>\n",
              "      <td>0</td>\n",
              "      <td>0.538</td>\n",
              "      <td>6.575</td>\n",
              "      <td>65.2</td>\n",
              "      <td>4.0900</td>\n",
              "      <td>1</td>\n",
              "      <td>296.0</td>\n",
              "      <td>15.3</td>\n",
              "      <td>396.90</td>\n",
              "      <td>4.98</td>\n",
              "      <td>24.0</td>\n",
              "    </tr>\n",
              "    <tr>\n",
              "      <th>1</th>\n",
              "      <td>0.02731</td>\n",
              "      <td>0.0</td>\n",
              "      <td>7.07</td>\n",
              "      <td>0</td>\n",
              "      <td>0.469</td>\n",
              "      <td>6.421</td>\n",
              "      <td>78.9</td>\n",
              "      <td>4.9671</td>\n",
              "      <td>2</td>\n",
              "      <td>242.0</td>\n",
              "      <td>17.8</td>\n",
              "      <td>396.90</td>\n",
              "      <td>9.14</td>\n",
              "      <td>21.6</td>\n",
              "    </tr>\n",
              "    <tr>\n",
              "      <th>2</th>\n",
              "      <td>0.02729</td>\n",
              "      <td>0.0</td>\n",
              "      <td>7.07</td>\n",
              "      <td>0</td>\n",
              "      <td>0.469</td>\n",
              "      <td>7.185</td>\n",
              "      <td>61.1</td>\n",
              "      <td>4.9671</td>\n",
              "      <td>2</td>\n",
              "      <td>242.0</td>\n",
              "      <td>17.8</td>\n",
              "      <td>392.83</td>\n",
              "      <td>4.03</td>\n",
              "      <td>34.7</td>\n",
              "    </tr>\n",
              "    <tr>\n",
              "      <th>3</th>\n",
              "      <td>0.03237</td>\n",
              "      <td>0.0</td>\n",
              "      <td>2.18</td>\n",
              "      <td>0</td>\n",
              "      <td>0.458</td>\n",
              "      <td>6.998</td>\n",
              "      <td>45.8</td>\n",
              "      <td>6.0622</td>\n",
              "      <td>3</td>\n",
              "      <td>222.0</td>\n",
              "      <td>18.7</td>\n",
              "      <td>394.63</td>\n",
              "      <td>2.94</td>\n",
              "      <td>33.4</td>\n",
              "    </tr>\n",
              "    <tr>\n",
              "      <th>4</th>\n",
              "      <td>0.06905</td>\n",
              "      <td>0.0</td>\n",
              "      <td>2.18</td>\n",
              "      <td>0</td>\n",
              "      <td>0.458</td>\n",
              "      <td>7.147</td>\n",
              "      <td>54.2</td>\n",
              "      <td>6.0622</td>\n",
              "      <td>3</td>\n",
              "      <td>222.0</td>\n",
              "      <td>18.7</td>\n",
              "      <td>396.90</td>\n",
              "      <td>5.33</td>\n",
              "      <td>36.2</td>\n",
              "    </tr>\n",
              "  </tbody>\n",
              "</table>\n",
              "</div>\n",
              "      <button class=\"colab-df-convert\" onclick=\"convertToInteractive('df-36920d42-8e96-48d6-9c80-373bd9026014')\"\n",
              "              title=\"Convert this dataframe to an interactive table.\"\n",
              "              style=\"display:none;\">\n",
              "        \n",
              "  <svg xmlns=\"http://www.w3.org/2000/svg\" height=\"24px\"viewBox=\"0 0 24 24\"\n",
              "       width=\"24px\">\n",
              "    <path d=\"M0 0h24v24H0V0z\" fill=\"none\"/>\n",
              "    <path d=\"M18.56 5.44l.94 2.06.94-2.06 2.06-.94-2.06-.94-.94-2.06-.94 2.06-2.06.94zm-11 1L8.5 8.5l.94-2.06 2.06-.94-2.06-.94L8.5 2.5l-.94 2.06-2.06.94zm10 10l.94 2.06.94-2.06 2.06-.94-2.06-.94-.94-2.06-.94 2.06-2.06.94z\"/><path d=\"M17.41 7.96l-1.37-1.37c-.4-.4-.92-.59-1.43-.59-.52 0-1.04.2-1.43.59L10.3 9.45l-7.72 7.72c-.78.78-.78 2.05 0 2.83L4 21.41c.39.39.9.59 1.41.59.51 0 1.02-.2 1.41-.59l7.78-7.78 2.81-2.81c.8-.78.8-2.07 0-2.86zM5.41 20L4 18.59l7.72-7.72 1.47 1.35L5.41 20z\"/>\n",
              "  </svg>\n",
              "      </button>\n",
              "      \n",
              "  <style>\n",
              "    .colab-df-container {\n",
              "      display:flex;\n",
              "      flex-wrap:wrap;\n",
              "      gap: 12px;\n",
              "    }\n",
              "\n",
              "    .colab-df-convert {\n",
              "      background-color: #E8F0FE;\n",
              "      border: none;\n",
              "      border-radius: 50%;\n",
              "      cursor: pointer;\n",
              "      display: none;\n",
              "      fill: #1967D2;\n",
              "      height: 32px;\n",
              "      padding: 0 0 0 0;\n",
              "      width: 32px;\n",
              "    }\n",
              "\n",
              "    .colab-df-convert:hover {\n",
              "      background-color: #E2EBFA;\n",
              "      box-shadow: 0px 1px 2px rgba(60, 64, 67, 0.3), 0px 1px 3px 1px rgba(60, 64, 67, 0.15);\n",
              "      fill: #174EA6;\n",
              "    }\n",
              "\n",
              "    [theme=dark] .colab-df-convert {\n",
              "      background-color: #3B4455;\n",
              "      fill: #D2E3FC;\n",
              "    }\n",
              "\n",
              "    [theme=dark] .colab-df-convert:hover {\n",
              "      background-color: #434B5C;\n",
              "      box-shadow: 0px 1px 3px 1px rgba(0, 0, 0, 0.15);\n",
              "      filter: drop-shadow(0px 1px 2px rgba(0, 0, 0, 0.3));\n",
              "      fill: #FFFFFF;\n",
              "    }\n",
              "  </style>\n",
              "\n",
              "      <script>\n",
              "        const buttonEl =\n",
              "          document.querySelector('#df-36920d42-8e96-48d6-9c80-373bd9026014 button.colab-df-convert');\n",
              "        buttonEl.style.display =\n",
              "          google.colab.kernel.accessAllowed ? 'block' : 'none';\n",
              "\n",
              "        async function convertToInteractive(key) {\n",
              "          const element = document.querySelector('#df-36920d42-8e96-48d6-9c80-373bd9026014');\n",
              "          const dataTable =\n",
              "            await google.colab.kernel.invokeFunction('convertToInteractive',\n",
              "                                                     [key], {});\n",
              "          if (!dataTable) return;\n",
              "\n",
              "          const docLinkHtml = 'Like what you see? Visit the ' +\n",
              "            '<a target=\"_blank\" href=https://colab.research.google.com/notebooks/data_table.ipynb>data table notebook</a>'\n",
              "            + ' to learn more about interactive tables.';\n",
              "          element.innerHTML = '';\n",
              "          dataTable['output_type'] = 'display_data';\n",
              "          await google.colab.output.renderOutput(dataTable, element);\n",
              "          const docLink = document.createElement('div');\n",
              "          docLink.innerHTML = docLinkHtml;\n",
              "          element.appendChild(docLink);\n",
              "        }\n",
              "      </script>\n",
              "    </div>\n",
              "  </div>\n",
              "  "
            ]
          },
          "metadata": {},
          "execution_count": 3
        }
      ]
    },
    {
      "cell_type": "code",
      "source": [
        "#입력값 13, 최종 출력 1\n",
        "#신경망 여러개를 쌓고 싶으면 output을 여러개 잡기.\n",
        "\n",
        "import torch\n",
        "import torch.nn as nn\n",
        "from torch.optim.adam import Adam\n"
      ],
      "metadata": {
        "id": "cMuVvjNWwCqY"
      },
      "execution_count": null,
      "outputs": []
    },
    {
      "cell_type": "code",
      "source": [
        "df['CHAS'] = df['CHAS'].astype('float')\n",
        "df[\"RAD\"] = df[\"RAD\"].astype('float')"
      ],
      "metadata": {
        "id": "CuOBHVq1zrj3"
      },
      "execution_count": null,
      "outputs": []
    },
    {
      "cell_type": "code",
      "source": [
        "model = nn.Sequential(\n",
        "    nn.Linear(13, 100),\n",
        "    nn.ReLU(),\n",
        "    nn.Linear(100, 1)\n",
        ")"
      ],
      "metadata": {
        "id": "DJuCGiXpxDN1"
      },
      "execution_count": null,
      "outputs": []
    },
    {
      "cell_type": "code",
      "source": [
        "X_train = df.iloc[:, :13].values\n",
        "X_train"
      ],
      "metadata": {
        "colab": {
          "base_uri": "https://localhost:8080/"
        },
        "id": "GBo5CqBNxURl",
        "outputId": "2316a6e6-c3ab-4bb2-e3bf-5c8570558418"
      },
      "execution_count": null,
      "outputs": [
        {
          "output_type": "execute_result",
          "data": {
            "text/plain": [
              "array([[6.3200e-03, 1.8000e+01, 2.3100e+00, ..., 1.5300e+01, 3.9690e+02,\n",
              "        4.9800e+00],\n",
              "       [2.7310e-02, 0.0000e+00, 7.0700e+00, ..., 1.7800e+01, 3.9690e+02,\n",
              "        9.1400e+00],\n",
              "       [2.7290e-02, 0.0000e+00, 7.0700e+00, ..., 1.7800e+01, 3.9283e+02,\n",
              "        4.0300e+00],\n",
              "       ...,\n",
              "       [6.0760e-02, 0.0000e+00, 1.1930e+01, ..., 2.1000e+01, 3.9690e+02,\n",
              "        5.6400e+00],\n",
              "       [1.0959e-01, 0.0000e+00, 1.1930e+01, ..., 2.1000e+01, 3.9345e+02,\n",
              "        6.4800e+00],\n",
              "       [4.7410e-02, 0.0000e+00, 1.1930e+01, ..., 2.1000e+01, 3.9690e+02,\n",
              "        7.8800e+00]])"
            ]
          },
          "metadata": {},
          "execution_count": 16
        }
      ]
    },
    {
      "cell_type": "code",
      "source": [
        "y_train = df.iloc[:, -1].values\n",
        "y_train.shape"
      ],
      "metadata": {
        "colab": {
          "base_uri": "https://localhost:8080/"
        },
        "id": "DSAFjrXlxeoT",
        "outputId": "a7561aaf-b46f-47ec-dadb-fc4c7f843bfb"
      },
      "execution_count": null,
      "outputs": [
        {
          "output_type": "execute_result",
          "data": {
            "text/plain": [
              "(506,)"
            ]
          },
          "metadata": {},
          "execution_count": 17
        }
      ]
    },
    {
      "cell_type": "code",
      "source": [
        "#배치 단위 학습\n",
        "batch_size = 100\n",
        "optim = Adam(model.parameters(), lr = 0.001)\n",
        "epochs = 200\n",
        "\n",
        "for epoch in range(epochs):\n",
        "  for temp in range(len(X_train)//batch_size):\n",
        "    s = temp * batch_size\n",
        "    e = s + batch_size\n",
        "\n",
        "    # 항상 tensor로 넣어야 함.\n",
        "    x = torch.FloatTensor(X_train[s:e])\n",
        "    y = torch.FloatTensor(y_train[s:e])\n",
        "\n",
        "    optim.zero_grad()\n",
        "    pred = model(x)\n",
        "    loss = nn.MSELoss()(pred, y)\n",
        "    loss.backward()\n",
        "    optim.step() # 다음 단계로 넘어감\n",
        "\n",
        "  if epoch % 10 == 0 :\n",
        "    print(f'{epoch+1} loss : {loss.item()}')"
      ],
      "metadata": {
        "colab": {
          "base_uri": "https://localhost:8080/"
        },
        "id": "tnNTT3IJxvIH",
        "outputId": "bbca2cc9-4530-4fc3-9a31-590c866fdccc"
      },
      "execution_count": null,
      "outputs": [
        {
          "output_type": "stream",
          "name": "stderr",
          "text": [
            "/usr/local/lib/python3.10/dist-packages/torch/nn/modules/loss.py:536: UserWarning: Using a target size (torch.Size([100])) that is different to the input size (torch.Size([100, 1])). This will likely lead to incorrect results due to broadcasting. Please ensure they have the same size.\n",
            "  return F.mse_loss(input, target, reduction=self.reduction)\n"
          ]
        },
        {
          "output_type": "stream",
          "name": "stdout",
          "text": [
            "1 loss : 73.00157928466797\n",
            "11 loss : 44.92757797241211\n",
            "21 loss : 42.26953125\n",
            "31 loss : 40.97299575805664\n",
            "41 loss : 40.37531661987305\n",
            "51 loss : 40.00135803222656\n",
            "61 loss : 39.209510803222656\n",
            "71 loss : 38.6927490234375\n",
            "81 loss : 38.39250564575195\n",
            "91 loss : 38.17924880981445\n",
            "101 loss : 37.87012481689453\n",
            "111 loss : 37.714107513427734\n",
            "121 loss : 37.62895584106445\n",
            "131 loss : 37.578609466552734\n",
            "141 loss : 37.52055740356445\n",
            "151 loss : 37.46042251586914\n",
            "161 loss : 37.42578125\n",
            "171 loss : 37.43179702758789\n",
            "181 loss : 37.45205307006836\n",
            "191 loss : 37.44827651977539\n"
          ]
        }
      ]
    },
    {
      "cell_type": "code",
      "source": [
        "X_train[0, : 13]"
      ],
      "metadata": {
        "colab": {
          "base_uri": "https://localhost:8080/"
        },
        "id": "mbv9-jXY0Bna",
        "outputId": "e62a3274-3e5b-4070-933f-a691cb093e6a"
      },
      "execution_count": null,
      "outputs": [
        {
          "output_type": "execute_result",
          "data": {
            "text/plain": [
              "array([6.320e-03, 1.800e+01, 2.310e+00, 0.000e+00, 5.380e-01, 6.575e+00,\n",
              "       6.520e+01, 4.090e+00, 1.000e+00, 2.960e+02, 1.530e+01, 3.969e+02,\n",
              "       4.980e+00])"
            ]
          },
          "metadata": {},
          "execution_count": 20
        }
      ]
    },
    {
      "cell_type": "code",
      "source": [
        "pred = model(torch.FloatTensor(X_train[0, : 13]))\n",
        "pred"
      ],
      "metadata": {
        "colab": {
          "base_uri": "https://localhost:8080/"
        },
        "id": "vEa2nQX60eSc",
        "outputId": "128c93a9-9fd1-4376-8a7f-e23c39b89e9d"
      },
      "execution_count": null,
      "outputs": [
        {
          "output_type": "execute_result",
          "data": {
            "text/plain": [
              "tensor([26.1489], grad_fn=<AddBackward0>)"
            ]
          },
          "metadata": {},
          "execution_count": 21
        }
      ]
    },
    {
      "cell_type": "code",
      "source": [
        "y_train[0]"
      ],
      "metadata": {
        "colab": {
          "base_uri": "https://localhost:8080/"
        },
        "id": "AdjNKW310k8j",
        "outputId": "122632ac-3487-43b6-c99d-92bf570d5aaf"
      },
      "execution_count": null,
      "outputs": [
        {
          "output_type": "execute_result",
          "data": {
            "text/plain": [
              "24.0"
            ]
          },
          "metadata": {},
          "execution_count": 22
        }
      ]
    },
    {
      "cell_type": "code",
      "source": [
        "model.state_dict()"
      ],
      "metadata": {
        "colab": {
          "base_uri": "https://localhost:8080/"
        },
        "id": "Mim8fZzm0l83",
        "outputId": "5ef701db-c5bb-4852-b511-f26838146e44"
      },
      "execution_count": null,
      "outputs": [
        {
          "output_type": "execute_result",
          "data": {
            "text/plain": [
              "OrderedDict([('0.weight',\n",
              "              tensor([[-0.1367, -0.0789, -0.0822,  ..., -0.2145,  0.0550,  0.2541],\n",
              "                      [-0.0104, -0.1296,  0.1300,  ...,  0.2499, -0.2066,  0.2833],\n",
              "                      [ 0.0881, -0.0805,  0.1160,  ..., -0.0650, -0.1353,  0.0702],\n",
              "                      ...,\n",
              "                      [ 0.0869, -0.0216, -0.1496,  ...,  0.1193, -0.2062, -0.0981],\n",
              "                      [ 0.0350,  0.0438, -0.1006,  ...,  0.0702, -0.0210, -0.1002],\n",
              "                      [-0.2442,  0.0625, -0.1054,  ...,  0.2092, -0.0260,  0.1974]])),\n",
              "             ('0.bias',\n",
              "              tensor([ 0.2519, -0.1613, -0.1690, -0.1722,  0.0601, -0.2015, -0.0647, -0.2242,\n",
              "                       0.1067,  0.1076,  0.1919, -0.2041, -0.0937,  0.2517, -0.0703, -0.1912,\n",
              "                       0.1621, -0.1801, -0.0511, -0.1330,  0.1823, -0.2755, -0.1245, -0.1240,\n",
              "                      -0.0330, -0.1859, -0.2749, -0.1335,  0.0559, -0.2826,  0.2275,  0.1420,\n",
              "                       0.3011,  0.0391, -0.2364, -0.0778, -0.2690,  0.1596,  0.1236, -0.0493,\n",
              "                       0.1467,  0.2259, -0.1388, -0.2708, -0.2412, -0.1767,  0.0327,  0.1540,\n",
              "                       0.0905, -0.0359, -0.0697,  0.2704, -0.0535, -0.1072, -0.0616, -0.0780,\n",
              "                      -0.0291, -0.1009,  0.0759, -0.2109,  0.0765,  0.0462, -0.0026, -0.1400,\n",
              "                      -0.1677, -0.1387, -0.3037,  0.2527,  0.1579, -0.1905,  0.2623, -0.1737,\n",
              "                      -0.2606, -0.0278, -0.2135, -0.2604, -0.0005,  0.1691,  0.1018, -0.0963,\n",
              "                      -0.0726, -0.0465, -0.0538, -0.2281, -0.1604, -0.0239, -0.0863, -0.0606,\n",
              "                       0.0177, -0.1071, -0.0474, -0.0772, -0.2068,  0.2401, -0.0610, -0.0283,\n",
              "                      -0.0346, -0.0769, -0.0768,  0.2402])),\n",
              "             ('2.weight',\n",
              "              tensor([[-0.0571,  0.1271, -0.0552, -0.0305, -0.1396, -0.0829,  0.0583,  0.0094,\n",
              "                       -0.0300, -0.0133, -0.0262,  0.0189,  0.0119, -0.0119, -0.0840, -0.0014,\n",
              "                       -0.1016, -0.0558, -0.0903,  0.0642,  0.0481, -0.0557,  0.0778,  0.0577,\n",
              "                       -0.0155, -0.0750, -0.0249, -0.0543, -0.0910, -0.0901, -0.0609,  0.0496,\n",
              "                        0.0418,  0.0269,  0.0939,  0.0940, -0.0490, -0.1217, -0.0770, -0.1363,\n",
              "                        0.0633, -0.0929, -0.0959, -0.0944,  0.0759,  0.0166,  0.0847,  0.0861,\n",
              "                        0.0246,  0.0032, -0.0331,  0.0958,  0.0061,  0.0331,  0.0389,  0.0927,\n",
              "                       -0.0101, -0.0146,  0.2010,  0.0217, -0.0148, -0.0528,  0.0949,  0.0807,\n",
              "                        0.0785, -0.0175, -0.0502,  0.0924,  0.0998, -0.1054,  0.1153,  0.0462,\n",
              "                       -0.0360,  0.0021, -0.0549,  0.0188, -0.0635, -0.0449,  0.0636, -0.0268,\n",
              "                        0.0898, -0.0589, -0.0337, -0.0397,  0.0668, -0.0512, -0.0175, -0.0785,\n",
              "                        0.0352,  0.0412,  0.0476,  0.0423, -0.0513, -0.0515, -0.0920, -0.0177,\n",
              "                       -0.0283,  0.0848,  0.0182, -0.0102]])),\n",
              "             ('2.bias', tensor([-0.0685]))])"
            ]
          },
          "metadata": {},
          "execution_count": 23
        }
      ]
    },
    {
      "cell_type": "code",
      "source": [
        "torch.save(model.state_dict(), 'model.pth')"
      ],
      "metadata": {
        "id": "W5yN2iUt0zG9"
      },
      "execution_count": null,
      "outputs": []
    },
    {
      "cell_type": "code",
      "source": [
        "model_new = model()\n",
        "model_new.load_state_dict(torch.load('model.pth'))"
      ],
      "metadata": {
        "id": "Lkm3luDn1Hp8"
      },
      "execution_count": null,
      "outputs": []
    }
  ]
}