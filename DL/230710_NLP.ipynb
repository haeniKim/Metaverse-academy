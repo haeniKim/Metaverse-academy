{
  "nbformat": 4,
  "nbformat_minor": 0,
  "metadata": {
    "colab": {
      "provenance": [],
      "authorship_tag": "ABX9TyPbwKW5zlOn5AiV+zVCdxGb",
      "include_colab_link": true
    },
    "kernelspec": {
      "name": "python3",
      "display_name": "Python 3"
    },
    "language_info": {
      "name": "python"
    }
  },
  "cells": [
    {
      "cell_type": "markdown",
      "metadata": {
        "id": "view-in-github",
        "colab_type": "text"
      },
      "source": [
        "<a href=\"https://colab.research.google.com/github/haeniKim/metaverse-academy/blob/master/DL/230710_NLP.ipynb\" target=\"_parent\"><img src=\"https://colab.research.google.com/assets/colab-badge.svg\" alt=\"Open In Colab\"/></a>"
      ]
    },
    {
      "cell_type": "code",
      "source": [
        "!pip install konlpy"
      ],
      "metadata": {
        "colab": {
          "base_uri": "https://localhost:8080/"
        },
        "id": "n7K4EjMpPJ9T",
        "outputId": "4ad72c12-96b4-410a-f7e3-d83c49e890f5"
      },
      "execution_count": null,
      "outputs": [
        {
          "output_type": "stream",
          "name": "stdout",
          "text": [
            "Collecting konlpy\n",
            "  Downloading konlpy-0.6.0-py2.py3-none-any.whl (19.4 MB)\n",
            "\u001b[2K     \u001b[90m━━━━━━━━━━━━━━━━━━━━━━━━━━━━━━━━━━━━━━━━\u001b[0m \u001b[32m19.4/19.4 MB\u001b[0m \u001b[31m67.8 MB/s\u001b[0m eta \u001b[36m0:00:00\u001b[0m\n",
            "\u001b[?25hCollecting JPype1>=0.7.0 (from konlpy)\n",
            "  Downloading JPype1-1.4.1-cp310-cp310-manylinux_2_12_x86_64.manylinux2010_x86_64.whl (465 kB)\n",
            "\u001b[2K     \u001b[90m━━━━━━━━━━━━━━━━━━━━━━━━━━━━━━━━━━━━━━\u001b[0m \u001b[32m465.3/465.3 kB\u001b[0m \u001b[31m39.5 MB/s\u001b[0m eta \u001b[36m0:00:00\u001b[0m\n",
            "\u001b[?25hRequirement already satisfied: lxml>=4.1.0 in /usr/local/lib/python3.10/dist-packages (from konlpy) (4.9.2)\n",
            "Requirement already satisfied: numpy>=1.6 in /usr/local/lib/python3.10/dist-packages (from konlpy) (1.22.4)\n",
            "Requirement already satisfied: packaging in /usr/local/lib/python3.10/dist-packages (from JPype1>=0.7.0->konlpy) (23.1)\n",
            "Installing collected packages: JPype1, konlpy\n",
            "Successfully installed JPype1-1.4.1 konlpy-0.6.0\n"
          ]
        }
      ]
    },
    {
      "cell_type": "code",
      "execution_count": null,
      "metadata": {
        "id": "2GDocMbGI0hx"
      },
      "outputs": [],
      "source": [
        "from konlpy.tag import Okt\n",
        "from nltk.tokenize import word_tokenize\n",
        "from collections import Counter"
      ]
    },
    {
      "cell_type": "code",
      "source": [
        "okt = Okt()"
      ],
      "metadata": {
        "id": "KVJ4oyYhPVZ3"
      },
      "execution_count": null,
      "outputs": []
    },
    {
      "cell_type": "code",
      "source": [
        "text_data = '''\n",
        "인도네시아 맥도날드가 웨딩 패키지를 출시했다. 결혼식 피로연용으로 구성된 햄버거와 맥너겟 세트다.\n",
        "\n",
        "10일(현지시간) CBS에 따르면 인도네시아 맥도날드는 지난달 사회관계망서비스(SNS)를 통해 웨딩 패키지를 공개했다. 이 패키지는 치킨버거 1개와 맥너겟 4조각이 한 세트다. 기본은 100인분으로, 가격은 350만 인도네시아 루피다. 이를 한화로 환산하면 26만원 안팎이다.\n",
        "\n",
        "CNBC는 알뜰한 신혼부부라면 이 패키지를 선택해 1인당 2달러(약 3000원) 수준으로 하객들에게 식사 메뉴를 제공할 수 있는 셈이라고 전했다. 다만 맥도날드 매장을 결혼식이나 피로연장으로 이용할 수는 없다.\n",
        "\n",
        "한편 맥도날드가 웨딩 패키지 제품을 출시한 것은 이번이 처음은 아니다. 앞서 지난 2011년 홍콩 맥도날드 지점은 웨딩 케이크와 구디백(파티 참가자에게 보답용으로 주는 선물 가방) 등이 포함된 웨딩 패키지를 1300달러(약 169만원)에 판매한 바 있다.\n",
        "'''"
      ],
      "metadata": {
        "id": "sTvID7BqPWOw"
      },
      "execution_count": null,
      "outputs": []
    },
    {
      "cell_type": "code",
      "source": [
        "text = okt.nouns(text_data)\n",
        "text"
      ],
      "metadata": {
        "colab": {
          "base_uri": "https://localhost:8080/"
        },
        "id": "Z2XPs-yXP5dE",
        "outputId": "3ef77c57-ccdc-4d22-9cd6-8bf46f326c48"
      },
      "execution_count": null,
      "outputs": [
        {
          "output_type": "execute_result",
          "data": {
            "text/plain": [
              "['인도네시아',\n",
              " '맥도날드',\n",
              " '웨딩',\n",
              " '패키지',\n",
              " '출시',\n",
              " '결혼식',\n",
              " '피로연',\n",
              " '용',\n",
              " '구성',\n",
              " '햄버거',\n",
              " '맥너겟',\n",
              " '세트',\n",
              " '현지',\n",
              " '시간',\n",
              " '인도네시아',\n",
              " '맥도날드',\n",
              " '지난달',\n",
              " '사회',\n",
              " '관계',\n",
              " '망',\n",
              " '서비스',\n",
              " '를',\n",
              " '통해',\n",
              " '웨딩',\n",
              " '패키지',\n",
              " '공개',\n",
              " '이',\n",
              " '패키지',\n",
              " '치킨',\n",
              " '버거',\n",
              " '개',\n",
              " '맥너겟',\n",
              " '세트',\n",
              " '기본',\n",
              " '인분',\n",
              " '가격',\n",
              " '인도네시아',\n",
              " '루피',\n",
              " '한화',\n",
              " '환산',\n",
              " '안팎',\n",
              " '신혼부부',\n",
              " '라면',\n",
              " '이',\n",
              " '패키지',\n",
              " '선택',\n",
              " '약',\n",
              " '수준',\n",
              " '하객',\n",
              " '식사',\n",
              " '메뉴',\n",
              " '제공',\n",
              " '수',\n",
              " '셈',\n",
              " '전',\n",
              " '다만',\n",
              " '맥도날드',\n",
              " '매장',\n",
              " '결혼식',\n",
              " '피로연',\n",
              " '이용',\n",
              " '수',\n",
              " '한편',\n",
              " '맥도날드',\n",
              " '웨딩',\n",
              " '패키지',\n",
              " '제품',\n",
              " '출시',\n",
              " '것',\n",
              " '이번',\n",
              " '처음',\n",
              " '앞서',\n",
              " '지난',\n",
              " '홍콩',\n",
              " '맥도날드',\n",
              " '지점',\n",
              " '웨딩',\n",
              " '케이크',\n",
              " '디',\n",
              " '파티',\n",
              " '참가자',\n",
              " '보답',\n",
              " '용',\n",
              " '선물',\n",
              " '가방',\n",
              " '등',\n",
              " '포함',\n",
              " '웨딩',\n",
              " '패키지',\n",
              " '약',\n",
              " '판매',\n",
              " '바']"
            ]
          },
          "metadata": {},
          "execution_count": 5
        }
      ]
    },
    {
      "cell_type": "code",
      "source": [
        "words_freq = Counter(text)"
      ],
      "metadata": {
        "id": "DEQ1bOi2P-Mb"
      },
      "execution_count": null,
      "outputs": []
    },
    {
      "cell_type": "code",
      "source": [
        "words_cleaned = [(w, c) for w,c in words_freq.items() if c >= 1]\n",
        "words_cleaned.sort(key = lambda x: x[1], reverse = True)"
      ],
      "metadata": {
        "id": "n4xHUNW_QS9Z"
      },
      "execution_count": null,
      "outputs": []
    },
    {
      "cell_type": "code",
      "source": [
        "words_cleaned"
      ],
      "metadata": {
        "colab": {
          "base_uri": "https://localhost:8080/"
        },
        "id": "RREuNhPoWJ66",
        "outputId": "ef03bdef-b15b-4ee0-ba0b-32f9b0d3ef08"
      },
      "execution_count": null,
      "outputs": [
        {
          "output_type": "execute_result",
          "data": {
            "text/plain": [
              "[('패키지', 6),\n",
              " ('맥도날드', 5),\n",
              " ('웨딩', 5),\n",
              " ('인도네시아', 3),\n",
              " ('출시', 2),\n",
              " ('결혼식', 2),\n",
              " ('피로연', 2),\n",
              " ('용', 2),\n",
              " ('맥너겟', 2),\n",
              " ('세트', 2),\n",
              " ('이', 2),\n",
              " ('약', 2),\n",
              " ('수', 2),\n",
              " ('구성', 1),\n",
              " ('햄버거', 1),\n",
              " ('현지', 1),\n",
              " ('시간', 1),\n",
              " ('지난달', 1),\n",
              " ('사회', 1),\n",
              " ('관계', 1),\n",
              " ('망', 1),\n",
              " ('서비스', 1),\n",
              " ('를', 1),\n",
              " ('통해', 1),\n",
              " ('공개', 1),\n",
              " ('치킨', 1),\n",
              " ('버거', 1),\n",
              " ('개', 1),\n",
              " ('기본', 1),\n",
              " ('인분', 1),\n",
              " ('가격', 1),\n",
              " ('루피', 1),\n",
              " ('한화', 1),\n",
              " ('환산', 1),\n",
              " ('안팎', 1),\n",
              " ('신혼부부', 1),\n",
              " ('라면', 1),\n",
              " ('선택', 1),\n",
              " ('수준', 1),\n",
              " ('하객', 1),\n",
              " ('식사', 1),\n",
              " ('메뉴', 1),\n",
              " ('제공', 1),\n",
              " ('셈', 1),\n",
              " ('전', 1),\n",
              " ('다만', 1),\n",
              " ('매장', 1),\n",
              " ('이용', 1),\n",
              " ('한편', 1),\n",
              " ('제품', 1),\n",
              " ('것', 1),\n",
              " ('이번', 1),\n",
              " ('처음', 1),\n",
              " ('앞서', 1),\n",
              " ('지난', 1),\n",
              " ('홍콩', 1),\n",
              " ('지점', 1),\n",
              " ('케이크', 1),\n",
              " ('디', 1),\n",
              " ('파티', 1),\n",
              " ('참가자', 1),\n",
              " ('보답', 1),\n",
              " ('선물', 1),\n",
              " ('가방', 1),\n",
              " ('등', 1),\n",
              " ('포함', 1),\n",
              " ('판매', 1),\n",
              " ('바', 1)]"
            ]
          },
          "metadata": {},
          "execution_count": 8
        }
      ]
    },
    {
      "cell_type": "code",
      "source": [
        "word_to_index = { word[0] : index+1 for index,word in enumerate(words_cleaned)}\n",
        "word_to_index"
      ],
      "metadata": {
        "colab": {
          "base_uri": "https://localhost:8080/"
        },
        "id": "xL_DWnrQWOou",
        "outputId": "aaa7d2b5-6c4e-4c04-c14e-1211fbe3bb4e"
      },
      "execution_count": null,
      "outputs": [
        {
          "output_type": "execute_result",
          "data": {
            "text/plain": [
              "{'패키지': 1,\n",
              " '맥도날드': 2,\n",
              " '웨딩': 3,\n",
              " '인도네시아': 4,\n",
              " '출시': 5,\n",
              " '결혼식': 6,\n",
              " '피로연': 7,\n",
              " '용': 8,\n",
              " '맥너겟': 9,\n",
              " '세트': 10,\n",
              " '이': 11,\n",
              " '약': 12,\n",
              " '수': 13,\n",
              " '구성': 14,\n",
              " '햄버거': 15,\n",
              " '현지': 16,\n",
              " '시간': 17,\n",
              " '지난달': 18,\n",
              " '사회': 19,\n",
              " '관계': 20,\n",
              " '망': 21,\n",
              " '서비스': 22,\n",
              " '를': 23,\n",
              " '통해': 24,\n",
              " '공개': 25,\n",
              " '치킨': 26,\n",
              " '버거': 27,\n",
              " '개': 28,\n",
              " '기본': 29,\n",
              " '인분': 30,\n",
              " '가격': 31,\n",
              " '루피': 32,\n",
              " '한화': 33,\n",
              " '환산': 34,\n",
              " '안팎': 35,\n",
              " '신혼부부': 36,\n",
              " '라면': 37,\n",
              " '선택': 38,\n",
              " '수준': 39,\n",
              " '하객': 40,\n",
              " '식사': 41,\n",
              " '메뉴': 42,\n",
              " '제공': 43,\n",
              " '셈': 44,\n",
              " '전': 45,\n",
              " '다만': 46,\n",
              " '매장': 47,\n",
              " '이용': 48,\n",
              " '한편': 49,\n",
              " '제품': 50,\n",
              " '것': 51,\n",
              " '이번': 52,\n",
              " '처음': 53,\n",
              " '앞서': 54,\n",
              " '지난': 55,\n",
              " '홍콩': 56,\n",
              " '지점': 57,\n",
              " '케이크': 58,\n",
              " '디': 59,\n",
              " '파티': 60,\n",
              " '참가자': 61,\n",
              " '보답': 62,\n",
              " '선물': 63,\n",
              " '가방': 64,\n",
              " '등': 65,\n",
              " '포함': 66,\n",
              " '판매': 67,\n",
              " '바': 68}"
            ]
          },
          "metadata": {},
          "execution_count": 9
        }
      ]
    },
    {
      "cell_type": "code",
      "source": [
        "sentence = '카카오브레인은 고도화된 기술모델을 가지고 있다.'\n",
        "\n",
        "sentence_to_index = [word_to_index[word] for word in okt.nouns(sentence) if word in word_to_index]\n",
        "sentence_to_index"
      ],
      "metadata": {
        "colab": {
          "base_uri": "https://localhost:8080/"
        },
        "id": "G3k4KhuWWQ_N",
        "outputId": "5be27f77-9e40-4772-9346-c7a52c3bdae8"
      },
      "execution_count": null,
      "outputs": [
        {
          "output_type": "execute_result",
          "data": {
            "text/plain": [
              "[]"
            ]
          },
          "metadata": {},
          "execution_count": 10
        }
      ]
    },
    {
      "cell_type": "markdown",
      "source": [
        "## Keras를 통한 구현"
      ],
      "metadata": {
        "id": "3Kg4IcBMWWeh"
      }
    },
    {
      "cell_type": "code",
      "source": [
        "from keras.preprocessing.text import Tokenizer"
      ],
      "metadata": {
        "id": "1XRVJlGMWUXb"
      },
      "execution_count": null,
      "outputs": []
    },
    {
      "cell_type": "code",
      "source": [
        "text_data = '''시스템은 메타버스 환경을 통해 사고 징후를 실시간 모니터링 하고, AI 기술로 사고 예방 및 사후 대응을 위한 최적의 의사결정을 지원해 피해규모를 최소화한다.\n",
        "\n",
        "과기정통부는 디지털 기반의 사고 예방·대응 시스템 개발과 실증을 2025년까지 3년간 지원한다. 올해는 국비 80억원, 지방비 40억원 등 총 120억원을 투입한다.\n",
        "\n",
        "충청북도에서는 산업단지를 중심으로 화재·폭발 등 대규모 사고 위험이 높은 산업 현장의 안전 강화를 추진한다. 기업별 제조 환경에 따른 맞춤형 고위험 사고 예방·관리 AI 솔루션과 생산 공정 전주기 안전관리 시스템 등을 개발 지원한다.'''"
      ],
      "metadata": {
        "id": "juFJIzKZWaGe"
      },
      "execution_count": null,
      "outputs": []
    },
    {
      "cell_type": "code",
      "source": [
        "text = okt.nouns(text_data)\n",
        "text"
      ],
      "metadata": {
        "colab": {
          "base_uri": "https://localhost:8080/"
        },
        "id": "smTacInqW64O",
        "outputId": "db3f6260-031f-46fa-e991-708a77ee5d68"
      },
      "execution_count": null,
      "outputs": [
        {
          "output_type": "execute_result",
          "data": {
            "text/plain": [
              "['시스템',\n",
              " '메타',\n",
              " '버스',\n",
              " '환경',\n",
              " '통해',\n",
              " '사고',\n",
              " '징후',\n",
              " '실시간',\n",
              " '모니터링',\n",
              " '기술',\n",
              " '사고',\n",
              " '예방',\n",
              " '및',\n",
              " '사후',\n",
              " '대응',\n",
              " '위',\n",
              " '최적',\n",
              " '의사결정',\n",
              " '지원',\n",
              " '피해',\n",
              " '규모',\n",
              " '최소',\n",
              " '과',\n",
              " '정통부',\n",
              " '디지털',\n",
              " '기반',\n",
              " '사고',\n",
              " '예방',\n",
              " '대응',\n",
              " '시스템',\n",
              " '개발',\n",
              " '실증',\n",
              " '지원',\n",
              " '올해',\n",
              " '국비',\n",
              " '방비',\n",
              " '등',\n",
              " '총',\n",
              " '투입',\n",
              " '충청북도',\n",
              " '산업',\n",
              " '단지',\n",
              " '중심',\n",
              " '화재',\n",
              " '폭발',\n",
              " '등',\n",
              " '대규모',\n",
              " '사고',\n",
              " '위험',\n",
              " '산업',\n",
              " '현장',\n",
              " '안전',\n",
              " '강화',\n",
              " '추진',\n",
              " '기업',\n",
              " '별',\n",
              " '제조',\n",
              " '환경',\n",
              " '맞춤',\n",
              " '위험',\n",
              " '사고',\n",
              " '예방',\n",
              " '관리',\n",
              " '솔루션',\n",
              " '생산',\n",
              " '공정',\n",
              " '주기',\n",
              " '안전',\n",
              " '관리',\n",
              " '시스템',\n",
              " '등',\n",
              " '개발',\n",
              " '지원']"
            ]
          },
          "metadata": {},
          "execution_count": 15
        }
      ]
    },
    {
      "cell_type": "code",
      "source": [
        "tokenizer = Tokenizer()\n",
        "tokenizer.fit_on_texts(text_data)"
      ],
      "metadata": {
        "id": "-kWUJ_kPWc8P"
      },
      "execution_count": null,
      "outputs": []
    },
    {
      "cell_type": "code",
      "source": [
        "print(tokenizer.word_index)"
      ],
      "metadata": {
        "colab": {
          "base_uri": "https://localhost:8080/"
        },
        "id": "658gfUlnWn21",
        "outputId": "1debef2c-b434-4757-8b83-b672797bfa2d"
      },
      "execution_count": null,
      "outputs": [
        {
          "output_type": "stream",
          "name": "stdout",
          "text": [
            "{'사': 1, '고': 2, '지': 3, '을': 4, '한': 5, '원': 6, '기': 7, '다': 8, '시': 9, '스': 10, '해': 11, '를': 12, '방': 13, '의': 14, '0': 15, '템': 16, '모': 17, '예': 18, '대': 19, '위': 20, '정': 21, '화': 22, '과': 23, '는': 24, '·': 25, '발': 26, '2': 27, '억': 28, '등': 29, '산': 30, '업': 31, '전': 32, '은': 33, '환': 34, '경': 35, '통': 36, '후': 37, '실': 38, '간': 39, 'a': 40, 'i': 41, '로': 42, '응': 43, '최': 44, '규': 45, '개': 46, '년': 47, '비': 48, '에': 49, '험': 50, '안': 51, '관': 52, '리': 53, '메': 54, '타': 55, '버': 56, '징': 57, '니': 58, '터': 59, '링': 60, '하': 61, '술': 62, '및': 63, '적': 64, '결': 65, '피': 66, '소': 67, '부': 68, '디': 69, '털': 70, '반': 71, '증': 72, '5': 73, '까': 74, '3': 75, '올': 76, '국': 77, '8': 78, '4': 79, '총': 80, '1': 81, '투': 82, '입': 83, '충': 84, '청': 85, '북': 86, '도': 87, '서': 88, '단': 89, '중': 90, '심': 91, '으': 92, '재': 93, '폭': 94, '이': 95, '높': 96, '현': 97, '장': 98, '강': 99, '추': 100, '진': 101, '별': 102, '제': 103, '조': 104, '따': 105, '른': 106, '맞': 107, '춤': 108, '형': 109, '솔': 110, '루': 111, '션': 112, '생': 113, '공': 114, '주': 115}\n"
          ]
        }
      ]
    },
    {
      "cell_type": "code",
      "source": [
        "sentence = '카카오브레인은 고도화된 기술을 가지고 있다.'\n",
        "st = okt.nouns(sentence)\n",
        "print(st)\n",
        "print(tokenizer.texts_to_sequences([st]))"
      ],
      "metadata": {
        "colab": {
          "base_uri": "https://localhost:8080/"
        },
        "id": "YIu7xV81XbBu",
        "outputId": "e37a5eb8-3ec8-4763-d6b0-db8ed9c8e7a2"
      },
      "execution_count": null,
      "outputs": [
        {
          "output_type": "stream",
          "name": "stdout",
          "text": [
            "['카카오', '브레인', '고도화', '기술', '가지']\n",
            "[[]]\n"
          ]
        }
      ]
    },
    {
      "cell_type": "code",
      "source": [
        "#ChatGPT 같은 대용량의 경우 모든 단어에 대한 처리가 필"
      ],
      "metadata": {
        "id": "KmAhaK8cXvyU"
      },
      "execution_count": null,
      "outputs": []
    },
    {
      "cell_type": "markdown",
      "source": [
        "## Padding"
      ],
      "metadata": {
        "id": "0a0mfXaKZjFV"
      }
    },
    {
      "cell_type": "code",
      "source": [
        "import numpy as np\n",
        "from keras.preprocessing.text import Tokenizer"
      ],
      "metadata": {
        "id": "tScDG322ZkCN"
      },
      "execution_count": null,
      "outputs": []
    },
    {
      "cell_type": "code",
      "source": [
        "#정수인코딩 과정을 거침\n",
        "text_data = '''\n",
        "과학기술정보통신부는 충청권 4개 지자체와 디지털 기술을 활용한 재난안전관리 시스템을 구축하는 '인공지능(AI)·메타버스 기반 재난안전관리체계 강화' 사업을 추진한다고 9일 밝혔다.\n",
        "\n",
        "시스템은 메타버스 환경을 통해 사고 징후를 실시간 모니터링 하고, AI 기술로 사고 예방 및 사후 대응을 위한 최적의 의사결정을 지원해 피해규모를 최소화한다.\n",
        "\n",
        "과기정통부는 디지털 기반의 사고 예방·대응 시스템 개발과 실증을 2025년까지 3년간 지원한다. 올해는 국비 80억원, 지방비 40억원 등 총 120억원을 투입한다.\n",
        "\n",
        "충청북도에서는 산업단지를 중심으로 화재·폭발 등 대규모 사고 위험이 높은 산업 현장의 안전 강화를 추진한다. 기업별 제조 환경에 따른 맞춤형 고위험 사고 예방·관리 AI 솔루션과 생산 공정 전주기 안전관리 시스템 등을 개발 지원한다.\n",
        "\n",
        "충청남도에서는 교통사고 다발구역을 대상으로 사고 유발요소를 탐지하는 도로안전 관리 AI 솔루션을 개발한다. 또 인파사고 등을 예방·관리하는 생활안전 관리 AI 솔루션, 공공데이터와 연계한 도로·생활안전 통합관제시스템을 마련한다.\n",
        "'''\n",
        "text = okt.nouns(text_data)\n",
        "tokenizer = Tokenizer()\n",
        "tokenizer.fit_on_texts(text)"
      ],
      "metadata": {
        "id": "a-eN1mjzZkUM"
      },
      "execution_count": null,
      "outputs": []
    },
    {
      "cell_type": "code",
      "source": [
        "text_data = text_data.replace('\\n','')\n",
        "text_result = text_data.split('.')\n",
        "\n",
        "text_result"
      ],
      "metadata": {
        "colab": {
          "base_uri": "https://localhost:8080/"
        },
        "id": "oYho-G6gZvyE",
        "outputId": "b32fd22d-dc36-4e46-deff-88276fc92b27"
      },
      "execution_count": null,
      "outputs": [
        {
          "output_type": "execute_result",
          "data": {
            "text/plain": [
              "[\"과학기술정보통신부는 충청권 4개 지자체와 디지털 기술을 활용한 재난안전관리 시스템을 구축하는 '인공지능(AI)·메타버스 기반 재난안전관리체계 강화' 사업을 추진한다고 9일 밝혔다\",\n",
              " '시스템은 메타버스 환경을 통해 사고 징후를 실시간 모니터링 하고, AI 기술로 사고 예방 및 사후 대응을 위한 최적의 의사결정을 지원해 피해규모를 최소화한다',\n",
              " '과기정통부는 디지털 기반의 사고 예방·대응 시스템 개발과 실증을 2025년까지 3년간 지원한다',\n",
              " ' 올해는 국비 80억원, 지방비 40억원 등 총 120억원을 투입한다',\n",
              " '충청북도에서는 산업단지를 중심으로 화재·폭발 등 대규모 사고 위험이 높은 산업 현장의 안전 강화를 추진한다',\n",
              " ' 기업별 제조 환경에 따른 맞춤형 고위험 사고 예방·관리 AI 솔루션과 생산 공정 전주기 안전관리 시스템 등을 개발 지원한다',\n",
              " '충청남도에서는 교통사고 다발구역을 대상으로 사고 유발요소를 탐지하는 도로안전 관리 AI 솔루션을 개발한다',\n",
              " ' 또 인파사고 등을 예방·관리하는 생활안전 관리 AI 솔루션, 공공데이터와 연계한 도로·생활안전 통합관제시스템을 마련한다',\n",
              " '']"
            ]
          },
          "metadata": {},
          "execution_count": 21
        }
      ]
    },
    {
      "cell_type": "code",
      "source": [
        "encoding_data = []\n",
        "for temp in text_result:\n",
        "  temp = temp.strip() #각 문장 공백 제거 후\n",
        "  st = okt.nouns(temp) #명사 값만 담기\n",
        "  encoding_data.append(tokenizer.texts_to_sequences([st])[0]) #정수 인코딩 변환?\n",
        "\n",
        "print(encoding_data)"
      ],
      "metadata": {
        "colab": {
          "base_uri": "https://localhost:8080/"
        },
        "id": "MhDDtL3CaYcn",
        "outputId": "6131aa95-699e-4fb6-b949-060b3b4b7a3b"
      },
      "execution_count": null,
      "outputs": [
        {
          "output_type": "stream",
          "name": "stdout",
          "text": [
            "[[24, 25, 26, 27, 28, 10, 11, 29, 12, 1, 2, 4, 30, 31, 32, 13, 14, 15, 12, 1, 2, 33, 16, 34, 17, 35], [4, 13, 14, 18, 36, 3, 37, 38, 39, 11, 3, 5, 40, 41, 19, 42, 43, 44, 7, 45, 46, 47], [48, 49, 10, 15, 3, 5, 19, 4, 8, 50, 7], [51, 52, 53, 6, 54, 55], [56, 20, 57, 58, 59, 60, 6, 61, 3, 21, 20, 62, 1, 16, 17], [63, 64, 65, 18, 66, 21, 3, 5, 2, 9, 67, 68, 69, 1, 2, 4, 6, 8, 7], [70, 71, 72, 73, 74, 3, 75, 76, 77, 22, 1, 2, 9, 8], [78, 79, 3, 6, 5, 2, 23, 1, 2, 9, 80, 81, 22, 23, 1, 82, 83, 4, 84], []]\n"
          ]
        }
      ]
    },
    {
      "cell_type": "code",
      "source": [
        "max_len = max(len(item) for item in encoding_data)\n",
        "print(max_len)"
      ],
      "metadata": {
        "colab": {
          "base_uri": "https://localhost:8080/"
        },
        "id": "KHHTh_A-a012",
        "outputId": "b3457df9-55f4-4633-c247-2f5f69a6bf9f"
      },
      "execution_count": null,
      "outputs": [
        {
          "output_type": "stream",
          "name": "stdout",
          "text": [
            "26\n"
          ]
        }
      ]
    },
    {
      "cell_type": "code",
      "source": [
        "#26개의 단어로 이루어진 문장이 가장 긺\n",
        "for sentence in encoding_data:\n",
        "  print(sentence)"
      ],
      "metadata": {
        "colab": {
          "base_uri": "https://localhost:8080/"
        },
        "id": "k4MpMXS0a7fl",
        "outputId": "a2a26690-0b05-4611-8c8c-143cf5127cd5"
      },
      "execution_count": null,
      "outputs": [
        {
          "output_type": "stream",
          "name": "stdout",
          "text": [
            "[24, 25, 26, 27, 28, 10, 11, 29, 12, 1, 2, 4, 30, 31, 32, 13, 14, 15, 12, 1, 2, 33, 16, 34, 17, 35]\n",
            "[4, 13, 14, 18, 36, 3, 37, 38, 39, 11, 3, 5, 40, 41, 19, 42, 43, 44, 7, 45, 46, 47]\n",
            "[48, 49, 10, 15, 3, 5, 19, 4, 8, 50, 7]\n",
            "[51, 52, 53, 6, 54, 55]\n",
            "[56, 20, 57, 58, 59, 60, 6, 61, 3, 21, 20, 62, 1, 16, 17]\n",
            "[63, 64, 65, 18, 66, 21, 3, 5, 2, 9, 67, 68, 69, 1, 2, 4, 6, 8, 7]\n",
            "[70, 71, 72, 73, 74, 3, 75, 76, 77, 22, 1, 2, 9, 8]\n",
            "[78, 79, 3, 6, 5, 2, 23, 1, 2, 9, 80, 81, 22, 23, 1, 82, 83, 4, 84]\n",
            "[]\n"
          ]
        }
      ]
    },
    {
      "cell_type": "code",
      "source": [
        "for sentence in encoding_data:\n",
        "  while len(sentence) < max_len: #0이 추가되기 때문에 따로 cnt 변수를 추가할 필요가 없음\n",
        "    sentence.append(0)"
      ],
      "metadata": {
        "id": "90snow-rbL6d"
      },
      "execution_count": null,
      "outputs": []
    },
    {
      "cell_type": "code",
      "source": [
        "print(encoding_data)"
      ],
      "metadata": {
        "colab": {
          "base_uri": "https://localhost:8080/"
        },
        "id": "rThA_stzb-vl",
        "outputId": "6274299a-2b3c-449b-de4e-6539cf2c64ac"
      },
      "execution_count": null,
      "outputs": [
        {
          "output_type": "stream",
          "name": "stdout",
          "text": [
            "[[24, 25, 26, 27, 28, 10, 11, 29, 12, 1, 2, 4, 30, 31, 32, 13, 14, 15, 12, 1, 2, 33, 16, 34, 17, 35], [4, 13, 14, 18, 36, 3, 37, 38, 39, 11, 3, 5, 40, 41, 19, 42, 43, 44, 7, 45, 46, 47, 0, 0, 0, 0], [48, 49, 10, 15, 3, 5, 19, 4, 8, 50, 7, 0, 0, 0, 0, 0, 0, 0, 0, 0, 0, 0, 0, 0, 0, 0], [51, 52, 53, 6, 54, 55, 0, 0, 0, 0, 0, 0, 0, 0, 0, 0, 0, 0, 0, 0, 0, 0, 0, 0, 0, 0], [56, 20, 57, 58, 59, 60, 6, 61, 3, 21, 20, 62, 1, 16, 17, 0, 0, 0, 0, 0, 0, 0, 0, 0, 0, 0], [63, 64, 65, 18, 66, 21, 3, 5, 2, 9, 67, 68, 69, 1, 2, 4, 6, 8, 7, 0, 0, 0, 0, 0, 0, 0], [70, 71, 72, 73, 74, 3, 75, 76, 77, 22, 1, 2, 9, 8, 0, 0, 0, 0, 0, 0, 0, 0, 0, 0, 0, 0], [78, 79, 3, 6, 5, 2, 23, 1, 2, 9, 80, 81, 22, 23, 1, 82, 83, 4, 84, 0, 0, 0, 0, 0, 0, 0], [0, 0, 0, 0, 0, 0, 0, 0, 0, 0, 0, 0, 0, 0, 0, 0, 0, 0, 0, 0, 0, 0, 0, 0, 0, 0]]\n"
          ]
        }
      ]
    },
    {
      "cell_type": "code",
      "source": [
        "#keras - 패딩 패키지가 있음.\n",
        "from tensorflow.keras.preprocessing.sequence import pad_sequences"
      ],
      "metadata": {
        "id": "_IjfhcoWcAE-"
      },
      "execution_count": null,
      "outputs": []
    },
    {
      "cell_type": "code",
      "source": [
        "text_data = '''\n",
        "과학기술정보통신부는 충청권 4개 지자체와 디지털 기술을 활용한 재난안전관리 시스템을 구축하는 '인공지능(AI)·메타버스 기반 재난안전관리체계 강화' 사업을 추진한다고 9일 밝혔다.\n",
        "\n",
        "시스템은 메타버스 환경을 통해 사고 징후를 실시간 모니터링 하고, AI 기술로 사고 예방 및 사후 대응을 위한 최적의 의사결정을 지원해 피해규모를 최소화한다.\n",
        "\n",
        "과기정통부는 디지털 기반의 사고 예방·대응 시스템 개발과 실증을 2025년까지 3년간 지원한다. 올해는 국비 80억원, 지방비 40억원 등 총 120억원을 투입한다.\n",
        "\n",
        "충청북도에서는 산업단지를 중심으로 화재·폭발 등 대규모 사고 위험이 높은 산업 현장의 안전 강화를 추진한다. 기업별 제조 환경에 따른 맞춤형 고위험 사고 예방·관리 AI 솔루션과 생산 공정 전주기 안전관리 시스템 등을 개발 지원한다.\n",
        "\n",
        "충청남도에서는 교통사고 다발구역을 대상으로 사고 유발요소를 탐지하는 도로안전 관리 AI 솔루션을 개발한다. 또 인파사고 등을 예방·관리하는 생활안전 관리 AI 솔루션, 공공데이터와 연계한 도로·생활안전 통합관제시스템을 마련한다.\n",
        "'''"
      ],
      "metadata": {
        "id": "TVZtU2rick2b"
      },
      "execution_count": null,
      "outputs": []
    },
    {
      "cell_type": "code",
      "source": [
        "text = okt.nouns(text_data)"
      ],
      "metadata": {
        "id": "_H7FYLcqcp2r"
      },
      "execution_count": null,
      "outputs": []
    },
    {
      "cell_type": "code",
      "source": [
        "tokenizer = Tokenizer()\n",
        "tokenizer.fit_on_texts(text)"
      ],
      "metadata": {
        "id": "lpnGlBt1csnh"
      },
      "execution_count": null,
      "outputs": []
    },
    {
      "cell_type": "code",
      "source": [
        "encoding_data = []\n",
        "for temp in text_result:\n",
        "  temp = temp.strip() #각 문장 공백 제거 후\n",
        "  st = okt.nouns(temp) #명사 값만 담기\n",
        "  encoding_data.append(tokenizer.texts_to_sequences([st])[0]) #정수 인코딩 변환?\n",
        "\n",
        "print(encoding_data)"
      ],
      "metadata": {
        "colab": {
          "base_uri": "https://localhost:8080/"
        },
        "id": "AeWrwTlRcy0G",
        "outputId": "9506439f-ca36-4ed9-d330-aa72b63662fc"
      },
      "execution_count": null,
      "outputs": [
        {
          "output_type": "stream",
          "name": "stdout",
          "text": [
            "[[24, 25, 26, 27, 28, 10, 11, 29, 12, 1, 2, 4, 30, 31, 32, 13, 14, 15, 12, 1, 2, 33, 16, 34, 17, 35], [4, 13, 14, 18, 36, 3, 37, 38, 39, 11, 3, 5, 40, 41, 19, 42, 43, 44, 7, 45, 46, 47], [48, 49, 10, 15, 3, 5, 19, 4, 8, 50, 7], [51, 52, 53, 6, 54, 55], [56, 20, 57, 58, 59, 60, 6, 61, 3, 21, 20, 62, 1, 16, 17], [63, 64, 65, 18, 66, 21, 3, 5, 2, 9, 67, 68, 69, 1, 2, 4, 6, 8, 7], [70, 71, 72, 73, 74, 3, 75, 76, 77, 22, 1, 2, 9, 8], [78, 79, 3, 6, 5, 2, 23, 1, 2, 9, 80, 81, 22, 23, 1, 82, 83, 4, 84], []]\n"
          ]
        }
      ]
    },
    {
      "cell_type": "code",
      "source": [
        "padding = pad_sequences(encoding_data, padding = 'post', maxlen= 10, truncating = 'post') #maxlen = n, truncating = 'post' - 최대 길이 넘을 때 앞부분 살리기.\n",
        "padding"
      ],
      "metadata": {
        "colab": {
          "base_uri": "https://localhost:8080/"
        },
        "id": "EmUd6yBPc1gB",
        "outputId": "ce0e29f9-50c0-42ee-e74a-b738a432b1a9"
      },
      "execution_count": null,
      "outputs": [
        {
          "output_type": "execute_result",
          "data": {
            "text/plain": [
              "array([[24, 25, 26, 27, 28, 10, 11, 29, 12,  1,  2,  4, 30, 31, 32, 13,\n",
              "        14, 15, 12,  1,  2, 33, 16, 34, 17, 35],\n",
              "       [ 4, 13, 14, 18, 36,  3, 37, 38, 39, 11,  3,  5, 40, 41, 19, 42,\n",
              "        43, 44,  7, 45, 46, 47,  0,  0,  0,  0],\n",
              "       [48, 49, 10, 15,  3,  5, 19,  4,  8, 50,  7,  0,  0,  0,  0,  0,\n",
              "         0,  0,  0,  0,  0,  0,  0,  0,  0,  0],\n",
              "       [51, 52, 53,  6, 54, 55,  0,  0,  0,  0,  0,  0,  0,  0,  0,  0,\n",
              "         0,  0,  0,  0,  0,  0,  0,  0,  0,  0],\n",
              "       [56, 20, 57, 58, 59, 60,  6, 61,  3, 21, 20, 62,  1, 16, 17,  0,\n",
              "         0,  0,  0,  0,  0,  0,  0,  0,  0,  0],\n",
              "       [63, 64, 65, 18, 66, 21,  3,  5,  2,  9, 67, 68, 69,  1,  2,  4,\n",
              "         6,  8,  7,  0,  0,  0,  0,  0,  0,  0],\n",
              "       [70, 71, 72, 73, 74,  3, 75, 76, 77, 22,  1,  2,  9,  8,  0,  0,\n",
              "         0,  0,  0,  0,  0,  0,  0,  0,  0,  0],\n",
              "       [78, 79,  3,  6,  5,  2, 23,  1,  2,  9, 80, 81, 22, 23,  1, 82,\n",
              "        83,  4, 84,  0,  0,  0,  0,  0,  0,  0],\n",
              "       [ 0,  0,  0,  0,  0,  0,  0,  0,  0,  0,  0,  0,  0,  0,  0,  0,\n",
              "         0,  0,  0,  0,  0,  0,  0,  0,  0,  0]], dtype=int32)"
            ]
          },
          "metadata": {},
          "execution_count": 33
        }
      ]
    },
    {
      "cell_type": "code",
      "source": [
        "last_value = len(tokenizer.word_index) + 1\n",
        "last_value"
      ],
      "metadata": {
        "colab": {
          "base_uri": "https://localhost:8080/"
        },
        "id": "YEgfiMzWdNRn",
        "outputId": "ec8379b7-e768-4dab-9b38-370652153001"
      },
      "execution_count": null,
      "outputs": [
        {
          "output_type": "execute_result",
          "data": {
            "text/plain": [
              "85"
            ]
          },
          "metadata": {},
          "execution_count": 34
        }
      ]
    },
    {
      "cell_type": "code",
      "source": [
        "padding = pad_sequences(encoding_data,truncating='post',padding='post',maxlen=10,value=last_value) #마지막 값으로 채우기\n",
        "padding"
      ],
      "metadata": {
        "colab": {
          "base_uri": "https://localhost:8080/"
        },
        "id": "CpxHuDyBejn7",
        "outputId": "48a34283-a15d-4044-ce42-5bcfb804d87e"
      },
      "execution_count": null,
      "outputs": [
        {
          "output_type": "execute_result",
          "data": {
            "text/plain": [
              "array([[24, 25, 26, 27, 28, 10, 11, 29, 12,  1],\n",
              "       [ 4, 13, 14, 18, 36,  3, 37, 38, 39, 11],\n",
              "       [48, 49, 10, 15,  3,  5, 19,  4,  8, 50],\n",
              "       [51, 52, 53,  6, 54, 55, 85, 85, 85, 85],\n",
              "       [56, 20, 57, 58, 59, 60,  6, 61,  3, 21],\n",
              "       [63, 64, 65, 18, 66, 21,  3,  5,  2,  9],\n",
              "       [70, 71, 72, 73, 74,  3, 75, 76, 77, 22],\n",
              "       [78, 79,  3,  6,  5,  2, 23,  1,  2,  9],\n",
              "       [85, 85, 85, 85, 85, 85, 85, 85, 85, 85]], dtype=int32)"
            ]
          },
          "metadata": {},
          "execution_count": 35
        }
      ]
    },
    {
      "cell_type": "markdown",
      "source": [
        "## One Hot Encoding"
      ],
      "metadata": {
        "id": "S8Ja89hfiXdG"
      }
    },
    {
      "cell_type": "code",
      "source": [
        "# 5 : 0, 1, 2, 3, 4\n",
        "#[[1,0,0,0,0],[0,0,0,0,1]]"
      ],
      "metadata": {
        "id": "DwzAQdfxfC7p"
      },
      "execution_count": null,
      "outputs": []
    },
    {
      "cell_type": "code",
      "source": [
        "from konlpy.tag import Okt\n",
        "okt = Okt()\n",
        "text_data = okt.morphs('나는 오늘 파이썬을 공부하고 있습니다')\n",
        "text_data"
      ],
      "metadata": {
        "colab": {
          "base_uri": "https://localhost:8080/"
        },
        "id": "x8-J_ExaikZm",
        "outputId": "0ad119fb-281a-4ed3-bbb7-00920cc1cf87"
      },
      "execution_count": null,
      "outputs": [
        {
          "output_type": "execute_result",
          "data": {
            "text/plain": [
              "['나', '는', '오늘', '파이썬', '을', '공부', '하고', '있습니다']"
            ]
          },
          "metadata": {},
          "execution_count": 37
        }
      ]
    },
    {
      "cell_type": "code",
      "source": [
        "word_encoding = {word: index for index,word in enumerate(text_data)}\n",
        "print(word_encoding)"
      ],
      "metadata": {
        "colab": {
          "base_uri": "https://localhost:8080/"
        },
        "id": "TF-rcHFUitlE",
        "outputId": "276f28ff-b74e-410c-f5c5-2ba44c2bb315"
      },
      "execution_count": null,
      "outputs": [
        {
          "output_type": "stream",
          "name": "stdout",
          "text": [
            "{'나': 0, '는': 1, '오늘': 2, '파이썬': 3, '을': 4, '공부': 5, '하고': 6, '있습니다': 7}\n"
          ]
        }
      ]
    },
    {
      "cell_type": "code",
      "source": [
        "one_hot_vector = [0] * (len(word_encoding))\n",
        "one_hot_vector"
      ],
      "metadata": {
        "colab": {
          "base_uri": "https://localhost:8080/"
        },
        "id": "qWkkf91Ei3TZ",
        "outputId": "826563f7-0d68-455e-fda6-5f9d1d26afee"
      },
      "execution_count": null,
      "outputs": [
        {
          "output_type": "execute_result",
          "data": {
            "text/plain": [
              "[0, 0, 0, 0, 0, 0, 0, 0]"
            ]
          },
          "metadata": {},
          "execution_count": 39
        }
      ]
    },
    {
      "cell_type": "code",
      "source": [
        "index = word_encoding['파이썬']\n",
        "index"
      ],
      "metadata": {
        "colab": {
          "base_uri": "https://localhost:8080/"
        },
        "id": "C-MmCdoCjKzE",
        "outputId": "639197ed-7bfd-426c-862c-f171f82d684a"
      },
      "execution_count": null,
      "outputs": [
        {
          "output_type": "execute_result",
          "data": {
            "text/plain": [
              "3"
            ]
          },
          "metadata": {},
          "execution_count": 41
        }
      ]
    },
    {
      "cell_type": "code",
      "source": [
        "one_hot_vector[index] = 1\n",
        "one_hot_vector"
      ],
      "metadata": {
        "colab": {
          "base_uri": "https://localhost:8080/"
        },
        "id": "0d-t24FAjc_a",
        "outputId": "138f0304-5578-4d82-91b2-801c8ffebe53"
      },
      "execution_count": null,
      "outputs": [
        {
          "output_type": "execute_result",
          "data": {
            "text/plain": [
              "[0, 0, 0, 1, 0, 0, 0, 0]"
            ]
          },
          "metadata": {},
          "execution_count": 42
        }
      ]
    },
    {
      "cell_type": "markdown",
      "source": [
        "* keras를 사용한 One Hot Enocoding"
      ],
      "metadata": {
        "id": "v0OrqWyKjqHZ"
      }
    },
    {
      "cell_type": "code",
      "source": [
        "from tensorflow.keras.preprocessing.text import Tokenizer\n",
        "from tensorflow.keras.utils import to_categorical"
      ],
      "metadata": {
        "id": "6DosAVEEjoNk"
      },
      "execution_count": null,
      "outputs": []
    },
    {
      "cell_type": "code",
      "source": [
        "text = '나는 오늘 파이썬을 공부하고있습니다.'\n",
        "\n",
        "tokenizer = Tokenizer()\n",
        "tokenizer.fit_on_texts([text])\n",
        "tokenizer.word_index"
      ],
      "metadata": {
        "colab": {
          "base_uri": "https://localhost:8080/"
        },
        "id": "A0FS4ECaj6v3",
        "outputId": "4cb810ee-c21d-472d-a258-699338ed0430"
      },
      "execution_count": null,
      "outputs": [
        {
          "output_type": "execute_result",
          "data": {
            "text/plain": [
              "{'나는': 1, '오늘': 2, '파이썬을': 3, '공부하고있습니다': 4}"
            ]
          },
          "metadata": {},
          "execution_count": 44
        }
      ]
    },
    {
      "cell_type": "code",
      "source": [
        "sentence = '나는 오늘 파이썬을 공부하고 있습니다.'\n",
        "encoded = tokenizer.texts_to_sequences([sentence])[0]\n",
        "encoded"
      ],
      "metadata": {
        "colab": {
          "base_uri": "https://localhost:8080/"
        },
        "id": "UZfZXn40kGcC",
        "outputId": "bff0877f-be6e-4711-d01f-524cb207bf7a"
      },
      "execution_count": null,
      "outputs": [
        {
          "output_type": "execute_result",
          "data": {
            "text/plain": [
              "[1, 2, 3]"
            ]
          },
          "metadata": {},
          "execution_count": 45
        }
      ]
    },
    {
      "cell_type": "code",
      "source": [
        "ont_hot = to_categorical(encoded)\n",
        "print(ont_hot)"
      ],
      "metadata": {
        "colab": {
          "base_uri": "https://localhost:8080/"
        },
        "id": "VRkJGVw3kkF0",
        "outputId": "ca2cec3b-1493-40f9-8d32-3fb612966947"
      },
      "execution_count": null,
      "outputs": [
        {
          "output_type": "stream",
          "name": "stdout",
          "text": [
            "[[0. 1. 0. 0.]\n",
            " [0. 0. 1. 0.]\n",
            " [0. 0. 0. 1.]]\n"
          ]
        }
      ]
    },
    {
      "cell_type": "code",
      "source": [],
      "metadata": {
        "id": "17T7jvIwkohT"
      },
      "execution_count": null,
      "outputs": []
    }
  ]
}