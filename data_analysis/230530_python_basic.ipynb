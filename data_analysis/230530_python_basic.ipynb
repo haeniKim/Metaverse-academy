{
  "nbformat": 4,
  "nbformat_minor": 0,
  "metadata": {
    "colab": {
      "provenance": [],
      "authorship_tag": "ABX9TyNDbs1cERhr6KH2sc1uvp64",
      "include_colab_link": true
    },
    "kernelspec": {
      "name": "python3",
      "display_name": "Python 3"
    },
    "language_info": {
      "name": "python"
    }
  },
  "cells": [
    {
      "cell_type": "markdown",
      "metadata": {
        "id": "view-in-github",
        "colab_type": "text"
      },
      "source": [
        "<a href=\"https://colab.research.google.com/github/haeniKim/metaverse-academy/blob/master/data_analysis/230530_python_basic.ipynb\" target=\"_parent\"><img src=\"https://colab.research.google.com/assets/colab-badge.svg\" alt=\"Open In Colab\"/></a>"
      ]
    },
    {
      "cell_type": "code",
      "execution_count": null,
      "metadata": {
        "colab": {
          "base_uri": "https://localhost:8080/",
          "height": 136
        },
        "id": "jIr1oV109NkI",
        "outputId": "bcc6e6c4-8115-428d-c33e-58fdc56bc69d"
      },
      "outputs": [
        {
          "output_type": "error",
          "ename": "SyntaxError",
          "evalue": "ignored",
          "traceback": [
            "\u001b[0;36m  File \u001b[0;32m\"<ipython-input-1-64cc7406280a>\"\u001b[0;36m, line \u001b[0;32m3\u001b[0m\n\u001b[0;31m    1a = 5\u001b[0m\n\u001b[0m    ^\u001b[0m\n\u001b[0;31mSyntaxError\u001b[0m\u001b[0;31m:\u001b[0m invalid decimal literal\n"
          ]
        }
      ],
      "source": [
        "age = 25\n",
        "age = 30\n",
        "1a = 5"
      ]
    },
    {
      "cell_type": "code",
      "source": [
        "#날짜 홀수, 짝수 구분하기\n",
        "day = int(input())\n",
        "if day % 2 == 0:\n",
        "  print(\"짝수 날\")\n",
        "else:\n",
        "  print(\"홀수 날\")"
      ],
      "metadata": {
        "colab": {
          "base_uri": "https://localhost:8080/"
        },
        "id": "DoNdtkQzIYxL",
        "outputId": "81f38c3c-ff0b-45d1-e114-22351c0091da"
      },
      "execution_count": null,
      "outputs": [
        {
          "output_type": "stream",
          "name": "stdout",
          "text": [
            "5\n",
            "홀수 날\n"
          ]
        }
      ]
    },
    {
      "cell_type": "code",
      "source": [
        "#문자열\n",
        "name = '김해니'\n",
        "name"
      ],
      "metadata": {
        "colab": {
          "base_uri": "https://localhost:8080/",
          "height": 35
        },
        "id": "iyQHmlFwIxdU",
        "outputId": "b5dd9465-a53e-4886-f659-f62d2a56df82"
      },
      "execution_count": null,
      "outputs": [
        {
          "output_type": "execute_result",
          "data": {
            "text/plain": [
              "'김해니'"
            ],
            "application/vnd.google.colaboratory.intrinsic+json": {
              "type": "string"
            }
          },
          "metadata": {},
          "execution_count": 6
        }
      ]
    },
    {
      "cell_type": "code",
      "source": [
        "data = '''\n",
        "안녕하세요\n",
        "메타버스 아카데미입니다\n",
        "'''\n",
        "\n",
        "data"
      ],
      "metadata": {
        "colab": {
          "base_uri": "https://localhost:8080/",
          "height": 35
        },
        "id": "D2oSA8D0JvOt",
        "outputId": "2ef8a301-3a8c-403e-b64a-efa0c92baebb"
      },
      "execution_count": null,
      "outputs": [
        {
          "output_type": "execute_result",
          "data": {
            "text/plain": [
              "'\\n안녕하세요\\n메타버스 아카데미입니다\\n'"
            ],
            "application/vnd.google.colaboratory.intrinsic+json": {
              "type": "string"
            }
          },
          "metadata": {},
          "execution_count": 7
        }
      ]
    },
    {
      "cell_type": "code",
      "source": [
        "print(data)"
      ],
      "metadata": {
        "colab": {
          "base_uri": "https://localhost:8080/"
        },
        "id": "xQhfP58WKWaV",
        "outputId": "f0bdf829-b951-4009-a743-db4b62bfbf9a"
      },
      "execution_count": null,
      "outputs": [
        {
          "output_type": "stream",
          "name": "stdout",
          "text": [
            "\n",
            "안녕하세요\n",
            "메타버스 아카데미입니다\n",
            "\n"
          ]
        }
      ]
    },
    {
      "cell_type": "code",
      "source": [
        "data1 = '서울시'\n",
        "data2 = '강남구'"
      ],
      "metadata": {
        "id": "0JYtskdfKXag"
      },
      "execution_count": null,
      "outputs": []
    },
    {
      "cell_type": "code",
      "source": [
        "result = data1 + ' ' + data2\n",
        "print(result)"
      ],
      "metadata": {
        "colab": {
          "base_uri": "https://localhost:8080/"
        },
        "id": "LU_RBfn2L20M",
        "outputId": "73bc5051-345f-46ed-e9c2-a7f9402fc081"
      },
      "execution_count": null,
      "outputs": [
        {
          "output_type": "stream",
          "name": "stdout",
          "text": [
            "서울시 강남구\n"
          ]
        }
      ]
    },
    {
      "cell_type": "code",
      "source": [
        "min = '990723-2345889'\n",
        "\n",
        "year = min[:2]\n",
        "birth = min[2:6]\n",
        "sex = min[7]\n",
        "\n",
        "print(\"year:\",year, \"birth:\",birth,\"sex:\",sex)"
      ],
      "metadata": {
        "id": "jz80qZXoMHue",
        "colab": {
          "base_uri": "https://localhost:8080/"
        },
        "outputId": "4a076d5e-0687-4a77-b038-0e8de7dad58a"
      },
      "execution_count": null,
      "outputs": [
        {
          "output_type": "stream",
          "name": "stdout",
          "text": [
            "year: 99 birth: 0723 sex: 2\n"
          ]
        }
      ]
    },
    {
      "cell_type": "code",
      "source": [
        "data1 = 'a12364F'\n",
        "data2 = 'bjridlfM'\n",
        "\n",
        "sex = [data1[-1],data2[-1]]\n",
        "sex"
      ],
      "metadata": {
        "colab": {
          "base_uri": "https://localhost:8080/"
        },
        "id": "yTSAqz88Rcz6",
        "outputId": "2eea7cf2-d875-49f1-92d9-cc823c9288e4"
      },
      "execution_count": null,
      "outputs": [
        {
          "output_type": "execute_result",
          "data": {
            "text/plain": [
              "['F', 'M']"
            ]
          },
          "metadata": {},
          "execution_count": 14
        }
      ]
    },
    {
      "cell_type": "code",
      "source": [
        "min = '801212-12345678'\n",
        "\n",
        "#1\n",
        "pri_min = min[:7] + \"*******\"\n",
        "print(pri_min)"
      ],
      "metadata": {
        "colab": {
          "base_uri": "https://localhost:8080/"
        },
        "id": "s97hqD8cR3PD",
        "outputId": "e640a185-1f78-4236-8afe-d683f9bb918d"
      },
      "execution_count": null,
      "outputs": [
        {
          "output_type": "stream",
          "name": "stdout",
          "text": [
            "801212-*******\n"
          ]
        }
      ]
    },
    {
      "cell_type": "code",
      "source": [
        "'나이 : {} {}'.format(25, 30)"
      ],
      "metadata": {
        "colab": {
          "base_uri": "https://localhost:8080/",
          "height": 35
        },
        "id": "tAh-As4TU29j",
        "outputId": "8ae40827-c814-4c28-c3f7-b373b8ca49e8"
      },
      "execution_count": null,
      "outputs": [
        {
          "output_type": "execute_result",
          "data": {
            "text/plain": [
              "'나이 : 25 30'"
            ],
            "application/vnd.google.colaboratory.intrinsic+json": {
              "type": "string"
            }
          },
          "metadata": {},
          "execution_count": 16
        }
      ]
    },
    {
      "cell_type": "code",
      "source": [
        "a = 0.123456\n",
        "'{0:0.2f}'.format(a)"
      ],
      "metadata": {
        "colab": {
          "base_uri": "https://localhost:8080/",
          "height": 35
        },
        "id": "erfsqvm3U7De",
        "outputId": "9e7e9832-aeff-49e5-9ce8-f9edba371e9d"
      },
      "execution_count": null,
      "outputs": [
        {
          "output_type": "execute_result",
          "data": {
            "text/plain": [
              "'0.12'"
            ],
            "application/vnd.google.colaboratory.intrinsic+json": {
              "type": "string"
            }
          },
          "metadata": {},
          "execution_count": 17
        }
      ]
    },
    {
      "cell_type": "code",
      "source": [
        "'{0:5.2f}'.format(a)"
      ],
      "metadata": {
        "colab": {
          "base_uri": "https://localhost:8080/",
          "height": 35
        },
        "id": "6Vw2lj7pVYfH",
        "outputId": "02d29207-c3e9-4cc8-cdd2-7c8f2ade51e2"
      },
      "execution_count": null,
      "outputs": [
        {
          "output_type": "execute_result",
          "data": {
            "text/plain": [
              "' 0.12'"
            ],
            "application/vnd.google.colaboratory.intrinsic+json": {
              "type": "string"
            }
          },
          "metadata": {},
          "execution_count": 18
        }
      ]
    },
    {
      "cell_type": "code",
      "source": [
        "name = '홍길동'\n",
        "f'이름 {name}'"
      ],
      "metadata": {
        "colab": {
          "base_uri": "https://localhost:8080/",
          "height": 35
        },
        "id": "-TLpjRhbVdv1",
        "outputId": "bcc32694-896c-4d72-ccf8-ab9e1847e245"
      },
      "execution_count": null,
      "outputs": [
        {
          "output_type": "execute_result",
          "data": {
            "text/plain": [
              "'이름 홍길동'"
            ],
            "application/vnd.google.colaboratory.intrinsic+json": {
              "type": "string"
            }
          },
          "metadata": {},
          "execution_count": 19
        }
      ]
    },
    {
      "cell_type": "code",
      "source": [
        "name = '     홍길동'\n",
        "name.lstrip()"
      ],
      "metadata": {
        "colab": {
          "base_uri": "https://localhost:8080/",
          "height": 35
        },
        "id": "c7U4kKzQWG-T",
        "outputId": "b6b796ff-5cb3-44e8-e4e5-878a5799f2df"
      },
      "execution_count": null,
      "outputs": [
        {
          "output_type": "execute_result",
          "data": {
            "text/plain": [
              "'홍길동'"
            ],
            "application/vnd.google.colaboratory.intrinsic+json": {
              "type": "string"
            }
          },
          "metadata": {},
          "execution_count": 21
        }
      ]
    },
    {
      "cell_type": "code",
      "source": [
        "a = '서울 강남구'\n",
        "a = a.replace('서울','서울시')"
      ],
      "metadata": {
        "id": "xsqRLuOkWU8t"
      },
      "execution_count": null,
      "outputs": []
    },
    {
      "cell_type": "code",
      "source": [
        "a = '강남구 동작구 노원구'\n",
        "a.split()"
      ],
      "metadata": {
        "colab": {
          "base_uri": "https://localhost:8080/"
        },
        "id": "MuSTiYoWXUP_",
        "outputId": "57702c0b-a882-4f45-b68a-86e41bae6d37"
      },
      "execution_count": null,
      "outputs": [
        {
          "output_type": "execute_result",
          "data": {
            "text/plain": [
              "['강남구', '동작구', '노원구']"
            ]
          },
          "metadata": {},
          "execution_count": 25
        }
      ]
    },
    {
      "cell_type": "code",
      "source": [
        "a = 'fffmfmfmffmmm'\n",
        "a.count('f')"
      ],
      "metadata": {
        "colab": {
          "base_uri": "https://localhost:8080/"
        },
        "id": "NLTs6AAMX9iT",
        "outputId": "a04372e7-5a64-40cc-cb1c-324e1f4ac468"
      },
      "execution_count": null,
      "outputs": [
        {
          "output_type": "execute_result",
          "data": {
            "text/plain": [
              "7"
            ]
          },
          "metadata": {},
          "execution_count": 26
        }
      ]
    },
    {
      "cell_type": "code",
      "source": [
        "','.join(a)"
      ],
      "metadata": {
        "colab": {
          "base_uri": "https://localhost:8080/",
          "height": 35
        },
        "id": "kTXDLIIbYTyt",
        "outputId": "91e8e2fd-c243-4295-e95b-243e57f0c429"
      },
      "execution_count": null,
      "outputs": [
        {
          "output_type": "execute_result",
          "data": {
            "text/plain": [
              "'f,f,f,m,f,m,f,m,f,f,m,m,m'"
            ],
            "application/vnd.google.colaboratory.intrinsic+json": {
              "type": "string"
            }
          },
          "metadata": {},
          "execution_count": 27
        }
      ]
    },
    {
      "cell_type": "code",
      "source": [
        "data = 'mMMmmFffFmM'\n",
        "data = data.upper()\n",
        "data.count('F')"
      ],
      "metadata": {
        "colab": {
          "base_uri": "https://localhost:8080/"
        },
        "id": "dLnsxtTuYqCV",
        "outputId": "a53250a8-3c61-4fd7-c699-238fa1dd482b"
      },
      "execution_count": null,
      "outputs": [
        {
          "output_type": "execute_result",
          "data": {
            "text/plain": [
              "4"
            ]
          },
          "metadata": {},
          "execution_count": 29
        }
      ]
    },
    {
      "cell_type": "code",
      "source": [
        "score = [100, 80, 40, 99]\n",
        "name = ['홍길동','헐크','아이언맨','토르']"
      ],
      "metadata": {
        "id": "262yHx_6Y_m7"
      },
      "execution_count": null,
      "outputs": []
    },
    {
      "cell_type": "code",
      "source": [
        "data = [['lee', 25], ['park',22],['na',24]]"
      ],
      "metadata": {
        "id": "EyqmPLtpeoxb"
      },
      "execution_count": null,
      "outputs": []
    },
    {
      "cell_type": "code",
      "source": [],
      "metadata": {
        "id": "ToGsYv7CiXEd"
      },
      "execution_count": null,
      "outputs": []
    },
    {
      "cell_type": "code",
      "source": [
        "data[0][0]"
      ],
      "metadata": {
        "colab": {
          "base_uri": "https://localhost:8080/",
          "height": 35
        },
        "id": "rKuEXDTUfFul",
        "outputId": "78994f43-eb09-4557-a721-63e526c9dd85"
      },
      "execution_count": null,
      "outputs": [
        {
          "output_type": "execute_result",
          "data": {
            "text/plain": [
              "'lee'"
            ],
            "application/vnd.google.colaboratory.intrinsic+json": {
              "type": "string"
            }
          },
          "metadata": {},
          "execution_count": 32
        }
      ]
    },
    {
      "cell_type": "code",
      "source": [
        "data = []\n",
        "\n",
        "data.append('hwang')\n",
        "data"
      ],
      "metadata": {
        "colab": {
          "base_uri": "https://localhost:8080/"
        },
        "id": "gUa31IlDfHMI",
        "outputId": "0cac883e-bccc-468b-f6d9-ed5f5cc8e58d"
      },
      "execution_count": null,
      "outputs": [
        {
          "output_type": "execute_result",
          "data": {
            "text/plain": [
              "['hwang']"
            ]
          },
          "metadata": {},
          "execution_count": 33
        }
      ]
    },
    {
      "cell_type": "code",
      "source": [
        "data.insert(0,'zhong')\n",
        "data"
      ],
      "metadata": {
        "colab": {
          "base_uri": "https://localhost:8080/"
        },
        "id": "TkRThbbef6kK",
        "outputId": "25f40b2e-d438-4017-daf2-e04eaabbf974"
      },
      "execution_count": null,
      "outputs": [
        {
          "output_type": "execute_result",
          "data": {
            "text/plain": [
              "['zhong', 'hwang']"
            ]
          },
          "metadata": {},
          "execution_count": 34
        }
      ]
    },
    {
      "cell_type": "code",
      "source": [
        "score = [88,3,86,9,23,99]\n",
        "score.sort()\n",
        "score"
      ],
      "metadata": {
        "colab": {
          "base_uri": "https://localhost:8080/"
        },
        "id": "aHixxQAxgdgA",
        "outputId": "1b77f554-c9e7-46ef-a001-c7ec5d196e0c"
      },
      "execution_count": null,
      "outputs": [
        {
          "output_type": "execute_result",
          "data": {
            "text/plain": [
              "[3, 9, 23, 86, 88, 99]"
            ]
          },
          "metadata": {},
          "execution_count": 35
        }
      ]
    },
    {
      "cell_type": "code",
      "source": [
        "score.reverse()\n",
        "score"
      ],
      "metadata": {
        "colab": {
          "base_uri": "https://localhost:8080/"
        },
        "id": "ZR9uqQqDgu-P",
        "outputId": "7127ac3d-495d-4121-deff-230388494646"
      },
      "execution_count": null,
      "outputs": [
        {
          "output_type": "execute_result",
          "data": {
            "text/plain": [
              "[99, 88, 86, 23, 9, 3]"
            ]
          },
          "metadata": {},
          "execution_count": 36
        }
      ]
    },
    {
      "cell_type": "code",
      "source": [
        "ai_data = {'name':['나래','명진'],\n",
        "           'age':[27,25]}\n",
        ""
      ],
      "metadata": {
        "id": "_N6T9XfHgxv9"
      },
      "execution_count": null,
      "outputs": []
    },
    {
      "cell_type": "code",
      "source": [
        "ai_data['name']"
      ],
      "metadata": {
        "colab": {
          "base_uri": "https://localhost:8080/"
        },
        "id": "MGWVK_eCjr0q",
        "outputId": "b57f7de0-67ab-449f-98e6-d16b23c6a3fc"
      },
      "execution_count": null,
      "outputs": [
        {
          "output_type": "execute_result",
          "data": {
            "text/plain": [
              "['나래', '명진']"
            ]
          },
          "metadata": {},
          "execution_count": 38
        }
      ]
    },
    {
      "cell_type": "code",
      "source": [
        "ai_data.keys()"
      ],
      "metadata": {
        "colab": {
          "base_uri": "https://localhost:8080/"
        },
        "id": "ktGbJ99ojtVT",
        "outputId": "a5bb27b2-df2c-419a-de49-b0d8be8e9572"
      },
      "execution_count": null,
      "outputs": [
        {
          "output_type": "execute_result",
          "data": {
            "text/plain": [
              "dict_keys(['name', 'age'])"
            ]
          },
          "metadata": {},
          "execution_count": 39
        }
      ]
    },
    {
      "cell_type": "code",
      "source": [
        "ai_data.items()"
      ],
      "metadata": {
        "colab": {
          "base_uri": "https://localhost:8080/"
        },
        "id": "9q-9WCIgkCQ-",
        "outputId": "9e74dbae-77ad-47cb-b3f1-0689a72b6237"
      },
      "execution_count": null,
      "outputs": [
        {
          "output_type": "execute_result",
          "data": {
            "text/plain": [
              "dict_items([('name', ['나래', '명진']), ('age', [27, 25])])"
            ]
          },
          "metadata": {},
          "execution_count": 40
        }
      ]
    },
    {
      "cell_type": "code",
      "source": [
        "data = {}\n",
        "data['name'] = ['홍길동','헐크']"
      ],
      "metadata": {
        "id": "uVf0pEY-kDzW"
      },
      "execution_count": null,
      "outputs": []
    },
    {
      "cell_type": "code",
      "source": [
        "score = int(input())\n",
        "if score == 100:\n",
        "  print(\"축하합니다\")"
      ],
      "metadata": {
        "colab": {
          "base_uri": "https://localhost:8080/"
        },
        "id": "eaa9SoZXoGkE",
        "outputId": "60683d72-afff-43d5-c768-921707c34de6"
      },
      "execution_count": null,
      "outputs": [
        {
          "output_type": "stream",
          "name": "stdout",
          "text": [
            "100\n",
            "축하합니다\n"
          ]
        }
      ]
    },
    {
      "cell_type": "code",
      "source": [
        "#아이디 : ai, 비밀번호 : ai 이면 로그인이 되었습니다.\n",
        "\n",
        "id = input()\n",
        "pw = input()\n",
        "\n",
        "if id == pw == 'ai':\n",
        "  print(\"로그인이 되었습니다.\")"
      ],
      "metadata": {
        "colab": {
          "base_uri": "https://localhost:8080/"
        },
        "id": "0CYWAO_roMK1",
        "outputId": "4df01d14-a05f-4716-b2ea-f6e802923617"
      },
      "execution_count": null,
      "outputs": [
        {
          "output_type": "stream",
          "name": "stdout",
          "text": [
            "ai\n",
            "ai\n",
            "로그인이 되었습니다.\n"
          ]
        }
      ]
    },
    {
      "cell_type": "code",
      "source": [
        "id = 'ai'\n",
        "pw = 'ai'\n",
        "count = 0\n",
        "\n",
        "if id == 'ai':\n",
        "  count += 1\n",
        "\n",
        "if pw == 'ai':\n",
        "  count += 1\n",
        "\n",
        "if count == 2:\n",
        "  print(\"로그인이 되었습니다.\")"
      ],
      "metadata": {
        "id": "e7htplFEpQUN"
      },
      "execution_count": null,
      "outputs": []
    },
    {
      "cell_type": "markdown",
      "source": [
        "## 문제 1 - 자료형"
      ],
      "metadata": {
        "id": "WXsLbjyvtl5-"
      }
    },
    {
      "cell_type": "code",
      "source": [
        "#001\n",
        "myName = \"홍길동\""
      ],
      "metadata": {
        "id": "jpNev4dmtPS3"
      },
      "execution_count": null,
      "outputs": []
    },
    {
      "cell_type": "code",
      "source": [
        "#002\n",
        "myAge = 20"
      ],
      "metadata": {
        "id": "JD6RKXMxttEr"
      },
      "execution_count": null,
      "outputs": []
    },
    {
      "cell_type": "code",
      "source": [
        "#003\n",
        "myHeight, myWeight =175, 70"
      ],
      "metadata": {
        "id": "6hK2l8XatvKH"
      },
      "execution_count": null,
      "outputs": []
    },
    {
      "cell_type": "code",
      "source": [
        "#004\n",
        "국어, 영어, 수학 = 77, 88, 81\n",
        "국사 = 63\n",
        "과학 = 97"
      ],
      "metadata": {
        "id": "VscuASbBt2TN"
      },
      "execution_count": null,
      "outputs": []
    },
    {
      "cell_type": "code",
      "source": [
        "#005\n",
        "total = 국어 + 영어 + 수학 + 국사 + 과학\n",
        "print(total)"
      ],
      "metadata": {
        "colab": {
          "base_uri": "https://localhost:8080/"
        },
        "id": "YroJHcpMt8tR",
        "outputId": "43785203-3dc0-4259-ad1b-8c992afb9802"
      },
      "execution_count": null,
      "outputs": [
        {
          "output_type": "stream",
          "name": "stdout",
          "text": [
            "406\n"
          ]
        }
      ]
    },
    {
      "cell_type": "code",
      "source": [
        "#006\n",
        "avg = total / 5\n",
        "print(avg)"
      ],
      "metadata": {
        "colab": {
          "base_uri": "https://localhost:8080/"
        },
        "id": "D9t6wwpiuGSf",
        "outputId": "317ec657-6940-4fce-82b6-b31dd02deaf6"
      },
      "execution_count": null,
      "outputs": [
        {
          "output_type": "stream",
          "name": "stdout",
          "text": [
            "81.2\n"
          ]
        }
      ]
    },
    {
      "cell_type": "code",
      "source": [
        "#007\n",
        "avg = 81.2\n",
        "type(avg)"
      ],
      "metadata": {
        "colab": {
          "base_uri": "https://localhost:8080/"
        },
        "id": "bH57J3BouN97",
        "outputId": "04463a00-22e0-4c92-d166-dfc0829ac09f"
      },
      "execution_count": null,
      "outputs": [
        {
          "output_type": "execute_result",
          "data": {
            "text/plain": [
              "float"
            ]
          },
          "metadata": {},
          "execution_count": 51
        }
      ]
    },
    {
      "cell_type": "code",
      "source": [
        "#008\n",
        "myAge = '20'\n",
        "myAge = int(myAge)\n",
        "type(myAge)"
      ],
      "metadata": {
        "colab": {
          "base_uri": "https://localhost:8080/"
        },
        "id": "T0BQ3J0vuUWQ",
        "outputId": "1be0bbfe-f5f5-467b-b12c-dc1a2b19100b"
      },
      "execution_count": null,
      "outputs": [
        {
          "output_type": "execute_result",
          "data": {
            "text/plain": [
              "int"
            ]
          },
          "metadata": {},
          "execution_count": 52
        }
      ]
    },
    {
      "cell_type": "code",
      "source": [
        "#009\n",
        "avg = 81.2\n",
        "avg = str(avg)\n",
        "type(avg)"
      ],
      "metadata": {
        "colab": {
          "base_uri": "https://localhost:8080/"
        },
        "id": "3GNSWYisucFO",
        "outputId": "6241eec6-cc94-4161-ec9c-eb8baed7be18"
      },
      "execution_count": null,
      "outputs": [
        {
          "output_type": "execute_result",
          "data": {
            "text/plain": [
              "str"
            ]
          },
          "metadata": {},
          "execution_count": 53
        }
      ]
    },
    {
      "cell_type": "code",
      "source": [
        "#010\n",
        "myName = '홍길동'\n",
        "myAge = '20'\n",
        "print(f'{myName} {myAge}세')"
      ],
      "metadata": {
        "colab": {
          "base_uri": "https://localhost:8080/"
        },
        "id": "9tPHMRB5ui6e",
        "outputId": "4d54ca67-4482-4bb0-c781-bc9c2271c540"
      },
      "execution_count": null,
      "outputs": [
        {
          "output_type": "stream",
          "name": "stdout",
          "text": [
            "홍길동 20세\n"
          ]
        }
      ]
    },
    {
      "cell_type": "code",
      "source": [
        "#011\n",
        "A = \"총합:\"\n",
        "B = total\n",
        "print(A + str(B))"
      ],
      "metadata": {
        "colab": {
          "base_uri": "https://localhost:8080/"
        },
        "id": "LB9SXiuhuwJ4",
        "outputId": "dba84755-d653-4d4c-b073-55014c8a509f"
      },
      "execution_count": null,
      "outputs": [
        {
          "output_type": "stream",
          "name": "stdout",
          "text": [
            "총합:406\n"
          ]
        }
      ]
    },
    {
      "cell_type": "code",
      "source": [
        "#012\n",
        "A, B = 3, 8\n",
        "\n",
        "print(A+B)\n",
        "print(B-A)\n",
        "print(A*B)\n",
        "print(A**B)\n",
        "print(A/B)\n",
        "print(B//A)\n",
        "print(A%B)"
      ],
      "metadata": {
        "colab": {
          "base_uri": "https://localhost:8080/"
        },
        "id": "0px31-BQu_po",
        "outputId": "8a21ec65-b263-4129-c03c-053e24b51b33"
      },
      "execution_count": null,
      "outputs": [
        {
          "output_type": "stream",
          "name": "stdout",
          "text": [
            "11\n",
            "5\n",
            "24\n",
            "6561\n",
            "0.375\n",
            "2\n",
            "3\n"
          ]
        }
      ]
    },
    {
      "cell_type": "code",
      "source": [
        "#013\n",
        "text = \"\"\"\n",
        "Usage: thingy [OPTIONS]\n",
        "  -h                              Display this usage message\n",
        "  -H hostname                     Hostname to connect to\n",
        "\"\"\"\n",
        "print(text)"
      ],
      "metadata": {
        "colab": {
          "base_uri": "https://localhost:8080/"
        },
        "id": "iZOfNXClvdQI",
        "outputId": "57526a78-7145-46a8-f91b-442693846bcf"
      },
      "execution_count": null,
      "outputs": [
        {
          "output_type": "stream",
          "name": "stdout",
          "text": [
            "\n",
            "Usage: thingy [OPTIONS]\n",
            "  -h                              Display this usage message\n",
            "  -H hostname                     Hostname to connect to\n",
            "\n"
          ]
        }
      ]
    },
    {
      "cell_type": "code",
      "source": [
        "#014\n",
        "print(\"\\\"따옴표를 출력해주세요\\\"\")"
      ],
      "metadata": {
        "colab": {
          "base_uri": "https://localhost:8080/"
        },
        "id": "HHk1taoOvxKo",
        "outputId": "913ad79e-43f3-44f2-aaf6-bae32ba8029f"
      },
      "execution_count": null,
      "outputs": [
        {
          "output_type": "stream",
          "name": "stdout",
          "text": [
            "\"따옴표를 출력해주세요\"\n"
          ]
        }
      ]
    },
    {
      "cell_type": "code",
      "source": [
        "#015\n",
        "text = \"1번째 줄\\n2번째 줄\"\n",
        "print(text)"
      ],
      "metadata": {
        "colab": {
          "base_uri": "https://localhost:8080/"
        },
        "id": "IAhX0XE5v40-",
        "outputId": "bd8542ed-dc75-42d8-d6fc-a446621cdfd4"
      },
      "execution_count": null,
      "outputs": [
        {
          "output_type": "stream",
          "name": "stdout",
          "text": [
            "1번째 줄\n",
            "2번째 줄\n"
          ]
        }
      ]
    },
    {
      "cell_type": "code",
      "source": [
        "#016\n",
        "print(\"\\\"다음은 문자열 안에서 줄을 바꿀 때 사용합니다. \\\\n\\\"\\n'다음 문자는 문자열 사이에 탭 간격을 줄 때 사용합니다. \\\\t'\")"
      ],
      "metadata": {
        "colab": {
          "base_uri": "https://localhost:8080/"
        },
        "id": "8lt3fT2swFy6",
        "outputId": "37e86bee-146b-410c-a996-681eaaed7bde"
      },
      "execution_count": null,
      "outputs": [
        {
          "output_type": "stream",
          "name": "stdout",
          "text": [
            "\"다음은 문자열 안에서 줄을 바꿀 때 사용합니다. \\n\"\n",
            "'다음 문자는 문자열 사이에 탭 간격을 줄 때 사용합니다. \\t'\n"
          ]
        }
      ]
    },
    {
      "cell_type": "code",
      "source": [
        "#017\n",
        "print(\"*\"*50)\n",
        "print(\"I LOVE PYTHON\")\n",
        "print(\"*\"*50)"
      ],
      "metadata": {
        "colab": {
          "base_uri": "https://localhost:8080/"
        },
        "id": "0lMJvsQwwcYn",
        "outputId": "a76325ac-825a-41e1-96c1-707a88646837"
      },
      "execution_count": null,
      "outputs": [
        {
          "output_type": "stream",
          "name": "stdout",
          "text": [
            "**************************************************\n",
            "I LOVE PYTHON\n",
            "**************************************************\n"
          ]
        }
      ]
    },
    {
      "cell_type": "code",
      "source": [
        "#018\n",
        "print(\"*\"*6)\n",
        "print(\"*    *\")\n",
        "print(\"*    *\")\n",
        "print(\"*\"*6)"
      ],
      "metadata": {
        "colab": {
          "base_uri": "https://localhost:8080/"
        },
        "id": "gLd0GYJTwqh2",
        "outputId": "fb07392d-b255-4202-bc27-bde5dc412bb8"
      },
      "execution_count": null,
      "outputs": [
        {
          "output_type": "stream",
          "name": "stdout",
          "text": [
            "******\n",
            "*    *\n",
            "*    *\n",
            "******\n"
          ]
        }
      ]
    },
    {
      "cell_type": "code",
      "source": [
        "#019\n",
        "A = \"PYTHON\"\n",
        "print(A[0])"
      ],
      "metadata": {
        "colab": {
          "base_uri": "https://localhost:8080/"
        },
        "id": "pAuHFcavw1Ut",
        "outputId": "bd871c9c-d58d-405d-c852-3eb44ac29ec3"
      },
      "execution_count": null,
      "outputs": [
        {
          "output_type": "stream",
          "name": "stdout",
          "text": [
            "P\n"
          ]
        }
      ]
    },
    {
      "cell_type": "code",
      "source": [
        "#020\n",
        "A = \"I LOVE PYTHON\"\n",
        "print(A[2])\n",
        "print(A[-6])"
      ],
      "metadata": {
        "colab": {
          "base_uri": "https://localhost:8080/"
        },
        "id": "AT3Jt_CZw-ak",
        "outputId": "64a626b3-2ed1-4a64-d597-49818b458f1f"
      },
      "execution_count": null,
      "outputs": [
        {
          "output_type": "stream",
          "name": "stdout",
          "text": [
            "L\n",
            "P\n"
          ]
        }
      ]
    },
    {
      "cell_type": "code",
      "source": [
        "#021\n",
        "A = \"I LOVE PYTHON\"\n",
        "print(A[2:6])"
      ],
      "metadata": {
        "colab": {
          "base_uri": "https://localhost:8080/"
        },
        "id": "kZNHTOY3xH_M",
        "outputId": "78df7a46-5005-4efb-ac94-f84986ca6b98"
      },
      "execution_count": null,
      "outputs": [
        {
          "output_type": "stream",
          "name": "stdout",
          "text": [
            "LOVE\n"
          ]
        }
      ]
    },
    {
      "cell_type": "code",
      "source": [
        "#022\n",
        "A = \"I LOVE PYTHON\"\n",
        "print(A[-6:])"
      ],
      "metadata": {
        "colab": {
          "base_uri": "https://localhost:8080/"
        },
        "id": "VooJ0kSgxOy-",
        "outputId": "1acba529-dbf0-4253-f277-6bd389a9864b"
      },
      "execution_count": null,
      "outputs": [
        {
          "output_type": "stream",
          "name": "stdout",
          "text": [
            "PYTHON\n"
          ]
        }
      ]
    },
    {
      "cell_type": "code",
      "source": [
        "#023\n",
        "A = \"I LOVE PYTHON\"\n",
        "print(A[:2] + \"WANT\" + A[-7:])"
      ],
      "metadata": {
        "colab": {
          "base_uri": "https://localhost:8080/"
        },
        "id": "T_mo-0pRxVIP",
        "outputId": "62b59205-a1f7-4372-9261-4f246030f79d"
      },
      "execution_count": null,
      "outputs": [
        {
          "output_type": "stream",
          "name": "stdout",
          "text": [
            "I WANT PYTHON\n"
          ]
        }
      ]
    },
    {
      "cell_type": "code",
      "source": [
        "#024\n",
        "A = \"PYSON\"\n",
        "print(A.replace(\"S\",\"TH\"))"
      ],
      "metadata": {
        "colab": {
          "base_uri": "https://localhost:8080/"
        },
        "id": "Qi1sBlZcxd28",
        "outputId": "1639747f-eda0-439c-e2d9-22ca7a202223"
      },
      "execution_count": null,
      "outputs": [
        {
          "output_type": "stream",
          "name": "stdout",
          "text": [
            "PYTHON\n"
          ]
        }
      ]
    },
    {
      "cell_type": "code",
      "source": [
        "#025\n",
        "print(\"이름: %s\" %\"홍길동\")\n",
        "print(\"나이: %d\" %20)"
      ],
      "metadata": {
        "colab": {
          "base_uri": "https://localhost:8080/"
        },
        "id": "CJsLXsttxnJ8",
        "outputId": "e8be2710-5142-41fb-8155-99e809dafebd"
      },
      "execution_count": null,
      "outputs": [
        {
          "output_type": "stream",
          "name": "stdout",
          "text": [
            "이름: 홍길동\n",
            "나이: 20\n"
          ]
        }
      ]
    },
    {
      "cell_type": "code",
      "source": [
        "#026\n",
        "print(\"I studied for %d hours to do %s.\" %(2, \"python\"))"
      ],
      "metadata": {
        "colab": {
          "base_uri": "https://localhost:8080/"
        },
        "id": "r9P3awUMxqXg",
        "outputId": "0488f49b-862b-4e64-9400-454e3dcf24e7"
      },
      "execution_count": null,
      "outputs": [
        {
          "output_type": "stream",
          "name": "stdout",
          "text": [
            "I studied for 2 hours to do python.\n"
          ]
        }
      ]
    },
    {
      "cell_type": "code",
      "source": [
        "#027\n",
        "percent = 25\n",
        "print(\"%d\\\\%|■■■         |\"% percent)"
      ],
      "metadata": {
        "colab": {
          "base_uri": "https://localhost:8080/",
          "height": 209
        },
        "id": "73HAT7APyEL1",
        "outputId": "acf636eb-8ab9-4d11-fe12-33adf43ac06d"
      },
      "execution_count": null,
      "outputs": [
        {
          "output_type": "error",
          "ename": "TypeError",
          "evalue": "ignored",
          "traceback": [
            "\u001b[0;31m---------------------------------------------------------------------------\u001b[0m",
            "\u001b[0;31mTypeError\u001b[0m                                 Traceback (most recent call last)",
            "\u001b[0;32m<ipython-input-81-6c6c6fcc5394>\u001b[0m in \u001b[0;36m<cell line: 3>\u001b[0;34m()\u001b[0m\n\u001b[1;32m      1\u001b[0m \u001b[0;31m#027\u001b[0m\u001b[0;34m\u001b[0m\u001b[0;34m\u001b[0m\u001b[0m\n\u001b[1;32m      2\u001b[0m \u001b[0mpercent\u001b[0m \u001b[0;34m=\u001b[0m \u001b[0;36m25\u001b[0m\u001b[0;34m\u001b[0m\u001b[0;34m\u001b[0m\u001b[0m\n\u001b[0;32m----> 3\u001b[0;31m \u001b[0mprint\u001b[0m\u001b[0;34m(\u001b[0m\u001b[0;34m\"%d\\\\%|■■■         |\"\u001b[0m\u001b[0;34m%\u001b[0m \u001b[0mpercent\u001b[0m\u001b[0;34m)\u001b[0m\u001b[0;34m\u001b[0m\u001b[0;34m\u001b[0m\u001b[0m\n\u001b[0m",
            "\u001b[0;31mTypeError\u001b[0m: not enough arguments for format string"
          ]
        }
      ]
    },
    {
      "cell_type": "code",
      "source": [
        "#028\n",
        "percent, progressbar = 50,"
      ],
      "metadata": {
        "colab": {
          "base_uri": "https://localhost:8080/",
          "height": 190
        },
        "id": "phv1rJk0yWWK",
        "outputId": "dd62865a-3351-4d62-cf05-1310988129c9"
      },
      "execution_count": null,
      "outputs": [
        {
          "output_type": "error",
          "ename": "ValueError",
          "evalue": "ignored",
          "traceback": [
            "\u001b[0;31m---------------------------------------------------------------------------\u001b[0m",
            "\u001b[0;31mValueError\u001b[0m                                Traceback (most recent call last)",
            "\u001b[0;32m<ipython-input-82-d59d59d7ccd8>\u001b[0m in \u001b[0;36m<cell line: 2>\u001b[0;34m()\u001b[0m\n\u001b[1;32m      1\u001b[0m \u001b[0;31m#028\u001b[0m\u001b[0;34m\u001b[0m\u001b[0;34m\u001b[0m\u001b[0m\n\u001b[0;32m----> 2\u001b[0;31m \u001b[0mpercent\u001b[0m\u001b[0;34m,\u001b[0m \u001b[0mprogressbar\u001b[0m \u001b[0;34m=\u001b[0m \u001b[0;36m50\u001b[0m\u001b[0;34m,\u001b[0m\u001b[0;34m\u001b[0m\u001b[0;34m\u001b[0m\u001b[0m\n\u001b[0m",
            "\u001b[0;31mValueError\u001b[0m: not enough values to unpack (expected 2, got 1)"
          ]
        }
      ]
    },
    {
      "cell_type": "code",
      "source": [
        "#029\n",
        "A = \"python\"\n",
        "B = \"love\"\n",
        "print(f\"| {B} {A}.\")"
      ],
      "metadata": {
        "colab": {
          "base_uri": "https://localhost:8080/"
        },
        "id": "-PxIt8O_zJfZ",
        "outputId": "7278bbe5-6774-45d9-ff47-ef9aec66f4fc"
      },
      "execution_count": null,
      "outputs": [
        {
          "output_type": "stream",
          "name": "stdout",
          "text": [
            "| love python.\n"
          ]
        }
      ]
    },
    {
      "cell_type": "code",
      "source": [
        "#030\n",
        "print(\"I {0} {1}.\".format(\"love\",\"python\"))"
      ],
      "metadata": {
        "colab": {
          "base_uri": "https://localhost:8080/"
        },
        "id": "nuzmfcpHzVKr",
        "outputId": "be30af95-256e-40a7-d058-0c87efa2f6f6"
      },
      "execution_count": null,
      "outputs": [
        {
          "output_type": "stream",
          "name": "stdout",
          "text": [
            "I love python.\n"
          ]
        }
      ]
    },
    {
      "cell_type": "code",
      "source": [
        "#031\n",
        "print(\"I {second} {first}.\".format(first=\"python\",second=\"love\"))"
      ],
      "metadata": {
        "colab": {
          "base_uri": "https://localhost:8080/"
        },
        "id": "5Cz73M5RzccR",
        "outputId": "f0553417-8386-4e4d-fc93-7f2fb453f0b1"
      },
      "execution_count": null,
      "outputs": [
        {
          "output_type": "stream",
          "name": "stdout",
          "text": [
            "I love python.\n"
          ]
        }
      ]
    },
    {
      "cell_type": "code",
      "source": [
        "#032 - 퍼센티지 변\n",
        "print('{}'.format(0.125))"
      ],
      "metadata": {
        "id": "DFAqsx5Lz6R_"
      },
      "execution_count": null,
      "outputs": []
    },
    {
      "cell_type": "code",
      "source": [
        "#033\n",
        "print(\"\"\"\\\n",
        "{_star:}\n",
        "{_text:^50}\n",
        "{_star:}\\\n",
        "\"\"\".format(_star=\"*\" * 50, _text = \"I LOVE PYTHON\"))"
      ],
      "metadata": {
        "colab": {
          "base_uri": "https://localhost:8080/"
        },
        "id": "ucNpIg950O7A",
        "outputId": "2f5dda78-38a5-4801-e5ed-754c61e07a2e"
      },
      "execution_count": null,
      "outputs": [
        {
          "output_type": "stream",
          "name": "stdout",
          "text": [
            "**************************************************\n",
            "                  I LOVE PYTHON                   \n",
            "**************************************************\n"
          ]
        }
      ]
    },
    {
      "cell_type": "code",
      "source": [
        "#034\n",
        "text = \"\"\"\\\n",
        "**************************************************\n",
        "                  I LOVE PYTHON\n",
        "**************************************************\\\n",
        "\"\"\"\n",
        "text = text.replace(\"*\",\"#\")\n",
        "print(text)"
      ],
      "metadata": {
        "colab": {
          "base_uri": "https://localhost:8080/"
        },
        "id": "HFsQHwUn02BO",
        "outputId": "29387fd7-ed09-4f13-c531-44fe932d83f6"
      },
      "execution_count": null,
      "outputs": [
        {
          "output_type": "stream",
          "name": "stdout",
          "text": [
            "##################################################\n",
            "                  I LOVE PYTHON                   \n",
            "##################################################\n"
          ]
        }
      ]
    },
    {
      "cell_type": "code",
      "source": [
        "#035\n",
        "text = \"\"\"\\\n",
        "**************************************************\n",
        "                  I LOVE PYTHON\n",
        "**************************************************\\\n",
        "\"\"\"\n",
        "text = text.replace(\"*\",\"\").lstrip()\n",
        "print(text)"
      ],
      "metadata": {
        "colab": {
          "base_uri": "https://localhost:8080/"
        },
        "id": "yIhLBvfo1EVN",
        "outputId": "7500815a-b7da-4515-94e3-e922cdefe233"
      },
      "execution_count": null,
      "outputs": [
        {
          "output_type": "stream",
          "name": "stdout",
          "text": [
            "I LOVE PYTHON                   \n",
            "\n"
          ]
        }
      ]
    },
    {
      "cell_type": "code",
      "source": [
        "#036\n",
        "text = \"PYTHON\"\n",
        "print(text.lower())"
      ],
      "metadata": {
        "colab": {
          "base_uri": "https://localhost:8080/"
        },
        "id": "elzfUxBc1NeQ",
        "outputId": "ab6bc3dc-23bc-4de7-88c3-2dc517a11a4e"
      },
      "execution_count": null,
      "outputs": [
        {
          "output_type": "stream",
          "name": "stdout",
          "text": [
            "python\n"
          ]
        }
      ]
    },
    {
      "cell_type": "markdown",
      "source": [
        "## 문제2 - 자료형"
      ],
      "metadata": {
        "id": "mBw5P1bx1e_o"
      }
    },
    {
      "cell_type": "code",
      "source": [
        "#001\n",
        "fruits = ['귤','사과','오렌지','배','바나나']\n",
        "print(fruits)"
      ],
      "metadata": {
        "colab": {
          "base_uri": "https://localhost:8080/"
        },
        "id": "O_o7EvPg1ct3",
        "outputId": "12d81f1b-5d0d-48d7-bb43-ba15b0766518"
      },
      "execution_count": null,
      "outputs": [
        {
          "output_type": "stream",
          "name": "stdout",
          "text": [
            "['귤', '사과', '오렌지', '배', '바나나']\n"
          ]
        }
      ]
    },
    {
      "cell_type": "code",
      "source": [
        "#002\n",
        "fruits = ['귤','사과','오렌지','배','바나나']\n",
        "\n",
        "fruits.append('돌')\n",
        "fruits[1] = '감'\n",
        "print(fruits)"
      ],
      "metadata": {
        "colab": {
          "base_uri": "https://localhost:8080/"
        },
        "id": "M4UtDEac1q-R",
        "outputId": "e5a1ea53-00e9-41f7-bb8d-f06b40fdc0d6"
      },
      "execution_count": null,
      "outputs": [
        {
          "output_type": "stream",
          "name": "stdout",
          "text": [
            "['귤', '감', '오렌지', '배', '바나나', '돌']\n"
          ]
        }
      ]
    },
    {
      "cell_type": "code",
      "source": [
        "#003\n",
        "fruits = ['귤', '감', '오렌지', '배', '바나나', '돌']\n",
        "\n",
        "fruits.insert(1, '사과')\n",
        "del fruits[-1]\n",
        "print(fruits)"
      ],
      "metadata": {
        "colab": {
          "base_uri": "https://localhost:8080/"
        },
        "id": "fTonf_q915zy",
        "outputId": "ef7d4a33-b09b-4def-d2f5-fd0b3b2d9223"
      },
      "execution_count": null,
      "outputs": [
        {
          "output_type": "stream",
          "name": "stdout",
          "text": [
            "['귤', '사과', '감', '오렌지', '배', '바나나']\n"
          ]
        }
      ]
    },
    {
      "cell_type": "code",
      "source": [
        "#004\n",
        "num = [0, 1, 2, 3, 4, 5, 6, 7, 8, 9]\n",
        "\n",
        "num = num*3\n",
        "num.reverse()\n",
        "print(num)"
      ],
      "metadata": {
        "colab": {
          "base_uri": "https://localhost:8080/"
        },
        "id": "O-DfFMjt2HQ1",
        "outputId": "c09d6bf6-04e4-4bdd-a6f9-09e01f9f8921"
      },
      "execution_count": null,
      "outputs": [
        {
          "output_type": "stream",
          "name": "stdout",
          "text": [
            "[9, 8, 7, 6, 5, 4, 3, 2, 1, 0, 9, 8, 7, 6, 5, 4, 3, 2, 1, 0, 9, 8, 7, 6, 5, 4, 3, 2, 1, 0]\n"
          ]
        }
      ]
    },
    {
      "cell_type": "code",
      "source": [
        "#005\n",
        "num = ['python', 1, 2, 3, 4, 5, 6, 7, 8, 9]\n",
        "print(num[-2:1:-2])"
      ],
      "metadata": {
        "colab": {
          "base_uri": "https://localhost:8080/"
        },
        "id": "QgqA9Z_O2VTw",
        "outputId": "fc29035f-3e63-4f23-efa1-3d234a681a98"
      },
      "execution_count": null,
      "outputs": [
        {
          "output_type": "stream",
          "name": "stdout",
          "text": [
            "[8, 6, 4, 2]\n"
          ]
        }
      ]
    },
    {
      "cell_type": "code",
      "source": [
        "#006                  - 다\n",
        "num = ['python', 1, 2, 3, 4, 5, 6, 7, 8, 9]\n",
        "print()"
      ],
      "metadata": {
        "colab": {
          "base_uri": "https://localhost:8080/"
        },
        "id": "k9M_nZNW2rI0",
        "outputId": "3f0a5439-bb1d-41bb-ea13-2490acbf5cc3"
      },
      "execution_count": null,
      "outputs": [
        {
          "output_type": "stream",
          "name": "stdout",
          "text": [
            "<map object at 0x7fe640607850>\n"
          ]
        }
      ]
    },
    {
      "cell_type": "code",
      "source": [
        "#007           = map 사용법 다\n",
        "text = \"1,2,3,4,5,6,7,8,9\"\n",
        "\n",
        "print(text)"
      ],
      "metadata": {
        "colab": {
          "base_uri": "https://localhost:8080/"
        },
        "id": "PXQsIdkt3P4i",
        "outputId": "7ad421a1-b8f4-4d3a-d422-ccc90aebd7c4"
      },
      "execution_count": null,
      "outputs": [
        {
          "output_type": "stream",
          "name": "stdout",
          "text": [
            "<map object at 0x7fe640458670>\n"
          ]
        }
      ]
    }
  ]
}